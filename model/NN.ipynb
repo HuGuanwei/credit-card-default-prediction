{
 "cells": [
  {
   "cell_type": "code",
   "execution_count": 144,
   "metadata": {},
   "outputs": [],
   "source": [
    "from sklearn.model_selection import train_test_split\n",
    "from imblearn.over_sampling import SMOTE\n",
    "import scikitplot as skplt\n",
    "import seaborn as sns\n",
    "import numpy as np\n",
    "import pandas as pd\n",
    "import matplotlib.pyplot as plt\n",
    "\n",
    "from keras import optimizers\n",
    "from keras.models import Sequential\n",
    "from keras.layers import Activation, Dense, Dropout\n",
    "from keras import regularizers\n",
    "from keras.callbacks import EarlyStopping"
   ]
  },
  {
   "cell_type": "code",
   "execution_count": 3,
   "metadata": {},
   "outputs": [],
   "source": [
    "raw_df = pd.read_excel('C:\\\\Users\\\\Merci\\\\Desktop\\\\cis520 project\\\\credit-card-default-prediction\\\\default_of_credit_card_clients.xls', skiprows=1)\n",
    "raw_df.drop(['ID'], axis = 1, inplace = True)"
   ]
  },
  {
   "cell_type": "code",
   "execution_count": 4,
   "metadata": {
    "scrolled": true
   },
   "outputs": [
    {
     "data": {
      "text/plain": [
       "Index(['LIMIT_BAL', 'SEX', 'EDUCATION', 'MARRIAGE', 'AGE', 'PAY_0', 'PAY_2',\n",
       "       'PAY_3', 'PAY_4', 'PAY_5', 'PAY_6', 'BILL_AMT1', 'BILL_AMT2',\n",
       "       'BILL_AMT3', 'BILL_AMT4', 'BILL_AMT5', 'BILL_AMT6', 'PAY_AMT1',\n",
       "       'PAY_AMT2', 'PAY_AMT3', 'PAY_AMT4', 'PAY_AMT5', 'PAY_AMT6',\n",
       "       'default payment next month'],\n",
       "      dtype='object')"
      ]
     },
     "execution_count": 4,
     "metadata": {},
     "output_type": "execute_result"
    }
   ],
   "source": [
    "raw_df.columns"
   ]
  },
  {
   "cell_type": "code",
   "execution_count": 5,
   "metadata": {},
   "outputs": [
    {
     "data": {
      "text/plain": [
       "Index(['LIMIT_BAL', 'AGE', 'PAY_0', 'PAY_2', 'PAY_3', 'PAY_4', 'PAY_5',\n",
       "       'PAY_6', 'BILL_AMT1', 'BILL_AMT2', 'BILL_AMT3', 'BILL_AMT4',\n",
       "       'BILL_AMT5', 'BILL_AMT6', 'PAY_AMT1', 'PAY_AMT2', 'PAY_AMT3',\n",
       "       'PAY_AMT4', 'PAY_AMT5', 'PAY_AMT6', 'default payment next month',\n",
       "       'EDUCATION_0', 'EDUCATION_1', 'EDUCATION_2', 'EDUCATION_3',\n",
       "       'EDUCATION_4', 'EDUCATION_5', 'EDUCATION_6', 'MARRIAGE_0', 'MARRIAGE_1',\n",
       "       'MARRIAGE_2', 'MARRIAGE_3', 'SEX_1', 'SEX_2'],\n",
       "      dtype='object')"
      ]
     },
     "execution_count": 5,
     "metadata": {},
     "output_type": "execute_result"
    }
   ],
   "source": [
    "data_one_hot = pd.get_dummies(raw_df, columns=['EDUCATION', 'MARRIAGE', 'SEX'])\n",
    "data_one_hot.columns"
   ]
  },
  {
   "cell_type": "code",
   "execution_count": 68,
   "metadata": {},
   "outputs": [
    {
     "data": {
      "text/html": [
       "<div>\n",
       "<style scoped>\n",
       "    .dataframe tbody tr th:only-of-type {\n",
       "        vertical-align: middle;\n",
       "    }\n",
       "\n",
       "    .dataframe tbody tr th {\n",
       "        vertical-align: top;\n",
       "    }\n",
       "\n",
       "    .dataframe thead th {\n",
       "        text-align: right;\n",
       "    }\n",
       "</style>\n",
       "<table border=\"1\" class=\"dataframe\">\n",
       "  <thead>\n",
       "    <tr style=\"text-align: right;\">\n",
       "      <th></th>\n",
       "      <th>LIMIT_BAL</th>\n",
       "      <th>AGE</th>\n",
       "      <th>PAY_0</th>\n",
       "      <th>PAY_2</th>\n",
       "      <th>PAY_3</th>\n",
       "      <th>PAY_4</th>\n",
       "      <th>PAY_5</th>\n",
       "      <th>PAY_6</th>\n",
       "      <th>BILL_AMT1</th>\n",
       "      <th>BILL_AMT2</th>\n",
       "      <th>...</th>\n",
       "      <th>EDUCATION_3</th>\n",
       "      <th>EDUCATION_4</th>\n",
       "      <th>EDUCATION_5</th>\n",
       "      <th>EDUCATION_6</th>\n",
       "      <th>MARRIAGE_0</th>\n",
       "      <th>MARRIAGE_1</th>\n",
       "      <th>MARRIAGE_2</th>\n",
       "      <th>MARRIAGE_3</th>\n",
       "      <th>SEX_1</th>\n",
       "      <th>SEX_2</th>\n",
       "    </tr>\n",
       "  </thead>\n",
       "  <tbody>\n",
       "    <tr>\n",
       "      <th>0</th>\n",
       "      <td>20000</td>\n",
       "      <td>24</td>\n",
       "      <td>2</td>\n",
       "      <td>2</td>\n",
       "      <td>-1</td>\n",
       "      <td>-1</td>\n",
       "      <td>-2</td>\n",
       "      <td>-2</td>\n",
       "      <td>3913</td>\n",
       "      <td>3102</td>\n",
       "      <td>...</td>\n",
       "      <td>0</td>\n",
       "      <td>0</td>\n",
       "      <td>0</td>\n",
       "      <td>0</td>\n",
       "      <td>0</td>\n",
       "      <td>1</td>\n",
       "      <td>0</td>\n",
       "      <td>0</td>\n",
       "      <td>0</td>\n",
       "      <td>1</td>\n",
       "    </tr>\n",
       "    <tr>\n",
       "      <th>1</th>\n",
       "      <td>120000</td>\n",
       "      <td>26</td>\n",
       "      <td>-1</td>\n",
       "      <td>2</td>\n",
       "      <td>0</td>\n",
       "      <td>0</td>\n",
       "      <td>0</td>\n",
       "      <td>2</td>\n",
       "      <td>2682</td>\n",
       "      <td>1725</td>\n",
       "      <td>...</td>\n",
       "      <td>0</td>\n",
       "      <td>0</td>\n",
       "      <td>0</td>\n",
       "      <td>0</td>\n",
       "      <td>0</td>\n",
       "      <td>0</td>\n",
       "      <td>1</td>\n",
       "      <td>0</td>\n",
       "      <td>0</td>\n",
       "      <td>1</td>\n",
       "    </tr>\n",
       "    <tr>\n",
       "      <th>2</th>\n",
       "      <td>90000</td>\n",
       "      <td>34</td>\n",
       "      <td>0</td>\n",
       "      <td>0</td>\n",
       "      <td>0</td>\n",
       "      <td>0</td>\n",
       "      <td>0</td>\n",
       "      <td>0</td>\n",
       "      <td>29239</td>\n",
       "      <td>14027</td>\n",
       "      <td>...</td>\n",
       "      <td>0</td>\n",
       "      <td>0</td>\n",
       "      <td>0</td>\n",
       "      <td>0</td>\n",
       "      <td>0</td>\n",
       "      <td>0</td>\n",
       "      <td>1</td>\n",
       "      <td>0</td>\n",
       "      <td>0</td>\n",
       "      <td>1</td>\n",
       "    </tr>\n",
       "    <tr>\n",
       "      <th>3</th>\n",
       "      <td>50000</td>\n",
       "      <td>37</td>\n",
       "      <td>0</td>\n",
       "      <td>0</td>\n",
       "      <td>0</td>\n",
       "      <td>0</td>\n",
       "      <td>0</td>\n",
       "      <td>0</td>\n",
       "      <td>46990</td>\n",
       "      <td>48233</td>\n",
       "      <td>...</td>\n",
       "      <td>0</td>\n",
       "      <td>0</td>\n",
       "      <td>0</td>\n",
       "      <td>0</td>\n",
       "      <td>0</td>\n",
       "      <td>1</td>\n",
       "      <td>0</td>\n",
       "      <td>0</td>\n",
       "      <td>0</td>\n",
       "      <td>1</td>\n",
       "    </tr>\n",
       "    <tr>\n",
       "      <th>4</th>\n",
       "      <td>50000</td>\n",
       "      <td>57</td>\n",
       "      <td>-1</td>\n",
       "      <td>0</td>\n",
       "      <td>-1</td>\n",
       "      <td>0</td>\n",
       "      <td>0</td>\n",
       "      <td>0</td>\n",
       "      <td>8617</td>\n",
       "      <td>5670</td>\n",
       "      <td>...</td>\n",
       "      <td>0</td>\n",
       "      <td>0</td>\n",
       "      <td>0</td>\n",
       "      <td>0</td>\n",
       "      <td>0</td>\n",
       "      <td>1</td>\n",
       "      <td>0</td>\n",
       "      <td>0</td>\n",
       "      <td>1</td>\n",
       "      <td>0</td>\n",
       "    </tr>\n",
       "  </tbody>\n",
       "</table>\n",
       "<p>5 rows × 34 columns</p>\n",
       "</div>"
      ],
      "text/plain": [
       "   LIMIT_BAL  AGE  PAY_0  PAY_2  PAY_3  PAY_4  PAY_5  PAY_6  BILL_AMT1  \\\n",
       "0      20000   24      2      2     -1     -1     -2     -2       3913   \n",
       "1     120000   26     -1      2      0      0      0      2       2682   \n",
       "2      90000   34      0      0      0      0      0      0      29239   \n",
       "3      50000   37      0      0      0      0      0      0      46990   \n",
       "4      50000   57     -1      0     -1      0      0      0       8617   \n",
       "\n",
       "   BILL_AMT2  ...    EDUCATION_3  EDUCATION_4  EDUCATION_5  EDUCATION_6  \\\n",
       "0       3102  ...              0            0            0            0   \n",
       "1       1725  ...              0            0            0            0   \n",
       "2      14027  ...              0            0            0            0   \n",
       "3      48233  ...              0            0            0            0   \n",
       "4       5670  ...              0            0            0            0   \n",
       "\n",
       "   MARRIAGE_0  MARRIAGE_1  MARRIAGE_2  MARRIAGE_3  SEX_1  SEX_2  \n",
       "0           0           1           0           0      0      1  \n",
       "1           0           0           1           0      0      1  \n",
       "2           0           0           1           0      0      1  \n",
       "3           0           1           0           0      0      1  \n",
       "4           0           1           0           0      1      0  \n",
       "\n",
       "[5 rows x 34 columns]"
      ]
     },
     "execution_count": 68,
     "metadata": {},
     "output_type": "execute_result"
    }
   ],
   "source": [
    "data_one_hot.head()"
   ]
  },
  {
   "cell_type": "code",
   "execution_count": 227,
   "metadata": {},
   "outputs": [],
   "source": [
    "'''\n",
    "X = data_one_hot[['LIMIT_BAL', 'AGE', 'PAY_0','BILL_AMT6', 'PAY_AMT1', 'PAY_AMT2', 'PAY_AMT3',\n",
    "       'PAY_AMT4', 'PAY_AMT5', 'PAY_AMT6',\n",
    "       'EDUCATION_0', 'EDUCATION_1', 'EDUCATION_2', 'EDUCATION_3',\n",
    "       'EDUCATION_4', 'EDUCATION_5', 'EDUCATION_6', 'MARRIAGE_0', 'MARRIAGE_1',\n",
    "       'MARRIAGE_2', 'MARRIAGE_3', 'SEX_1', 'SEX_2']]\n",
    "\n",
    "'''\n",
    "X = data_one_hot.drop(['default payment next month'], axis =1)\n",
    "\n",
    "y = data_one_hot['default payment next month']"
   ]
  },
  {
   "cell_type": "code",
   "execution_count": 228,
   "metadata": {},
   "outputs": [],
   "source": [
    "X_train, X_test, y_train, y_test = train_test_split(X, y, test_size=0.40)"
   ]
  },
  {
   "cell_type": "code",
   "execution_count": 229,
   "metadata": {},
   "outputs": [],
   "source": [
    "from imblearn.over_sampling import RandomOverSampler\n",
    "ros = RandomOverSampler(random_state=0)\n",
    "\n",
    "from imblearn.over_sampling import SMOTE\n",
    "sm = SMOTE(random_state=0)\n",
    "#X_train, y_train = ros.fit_sample(X_train, y_train)"
   ]
  },
  {
   "cell_type": "code",
   "execution_count": 230,
   "metadata": {},
   "outputs": [],
   "source": [
    "from sklearn.preprocessing import MinMaxScaler\n",
    "scaler = MinMaxScaler()\n",
    "X_train = scaler.fit_transform(X_train)\n",
    "X_test = scaler.transform(X_test)"
   ]
  },
  {
   "cell_type": "code",
   "execution_count": 231,
   "metadata": {},
   "outputs": [],
   "source": [
    "pd.DataFrame(X_train).to_csv('X_train.csv', index = False)\n",
    "pd.DataFrame(X_test).to_csv('X_test.csv', index = False)\n",
    "pd.DataFrame(y_train).to_csv('y_train.csv', index = False)\n",
    "pd.DataFrame(y_test).to_csv('y_test.csv', index = False)"
   ]
  },
  {
   "cell_type": "code",
   "execution_count": 319,
   "metadata": {},
   "outputs": [
    {
     "data": {
      "text/plain": [
       "(18000, 33)"
      ]
     },
     "execution_count": 319,
     "metadata": {},
     "output_type": "execute_result"
    }
   ],
   "source": [
    "X_train.shape"
   ]
  },
  {
   "cell_type": "code",
   "execution_count": 329,
   "metadata": {
    "scrolled": true
   },
   "outputs": [
    {
     "name": "stdout",
     "output_type": "stream",
     "text": [
      "Building Neural Network model...\n",
      "Train on 14400 samples, validate on 3600 samples\n",
      "Epoch 1/800\n",
      "14400/14400 [==============================] - 6s 435us/step - loss: 0.2400 - val_loss: 0.2380\n",
      "Epoch 2/800\n",
      "14400/14400 [==============================] - 0s 15us/step - loss: 0.2391 - val_loss: 0.2361\n",
      "Epoch 3/800\n",
      "14400/14400 [==============================] - 0s 17us/step - loss: 0.2354 - val_loss: 0.2299\n",
      "Epoch 4/800\n",
      "14400/14400 [==============================] - 0s 16us/step - loss: 0.2264 - val_loss: 0.2186\n",
      "Epoch 5/800\n",
      "14400/14400 [==============================] - 0s 15us/step - loss: 0.2168 - val_loss: 0.2120\n",
      "Epoch 6/800\n",
      "14400/14400 [==============================] - 0s 17us/step - loss: 0.2129 - val_loss: 0.2109\n",
      "Epoch 7/800\n",
      "14400/14400 [==============================] - 0s 16us/step - loss: 0.2123 - val_loss: 0.2087\n",
      "Epoch 8/800\n",
      "14400/14400 [==============================] - 0s 16us/step - loss: 0.2103 - val_loss: 0.2082\n",
      "Epoch 9/800\n",
      "14400/14400 [==============================] - 0s 20us/step - loss: 0.2100 - val_loss: 0.2071\n",
      "Epoch 10/800\n",
      "14400/14400 [==============================] - 0s 19us/step - loss: 0.2085 - val_loss: 0.2070\n",
      "Epoch 11/800\n",
      "14400/14400 [==============================] - 0s 19us/step - loss: 0.2084 - val_loss: 0.2062\n",
      "Epoch 12/800\n",
      "14400/14400 [==============================] - 0s 23us/step - loss: 0.2069 - val_loss: 0.2054\n",
      "Epoch 13/800\n",
      "14400/14400 [==============================] - 0s 23us/step - loss: 0.2066 - val_loss: 0.2050\n",
      "Epoch 14/800\n",
      "14400/14400 [==============================] - 0s 22us/step - loss: 0.2060 - val_loss: 0.2049\n",
      "Epoch 15/800\n",
      "14400/14400 [==============================] - 0s 29us/step - loss: 0.2066 - val_loss: 0.2060\n",
      "Epoch 16/800\n",
      "14400/14400 [==============================] - 0s 24us/step - loss: 0.2061 - val_loss: 0.2053\n",
      "Epoch 17/800\n",
      "14400/14400 [==============================] - 0s 31us/step - loss: 0.2055 - val_loss: 0.2103\n",
      "Epoch 18/800\n",
      "14400/14400 [==============================] - 1s 35us/step - loss: 0.2070 - val_loss: 0.2076\n",
      "Epoch 19/800\n",
      "14400/14400 [==============================] - 0s 33us/step - loss: 0.2057 - val_loss: 0.2052\n",
      "Epoch 20/800\n",
      "14400/14400 [==============================] - 1s 36us/step - loss: 0.2041 - val_loss: 0.2038\n",
      "Epoch 21/800\n",
      "14400/14400 [==============================] - 0s 31us/step - loss: 0.2032 - val_loss: 0.2026\n",
      "Epoch 22/800\n",
      "14400/14400 [==============================] - 0s 26us/step - loss: 0.2028 - val_loss: 0.2024\n",
      "Epoch 23/800\n",
      "14400/14400 [==============================] - 0s 26us/step - loss: 0.2027 - val_loss: 0.2044\n",
      "Epoch 24/800\n",
      "14400/14400 [==============================] - 0s 22us/step - loss: 0.2032 - val_loss: 0.2039\n",
      "Epoch 25/800\n",
      "14400/14400 [==============================] - 0s 19us/step - loss: 0.2025 - val_loss: 0.2031\n",
      "Epoch 26/800\n",
      "14400/14400 [==============================] - 0s 22us/step - loss: 0.2023 - val_loss: 0.2031\n",
      "Epoch 27/800\n",
      "14400/14400 [==============================] - 0s 23us/step - loss: 0.2015 - val_loss: 0.2019\n",
      "Epoch 28/800\n",
      "14400/14400 [==============================] - 0s 31us/step - loss: 0.2016 - val_loss: 0.2015\n",
      "Epoch 29/800\n",
      "14400/14400 [==============================] - 1s 37us/step - loss: 0.2012 - val_loss: 0.2015\n",
      "Epoch 30/800\n",
      "14400/14400 [==============================] - 1s 41us/step - loss: 0.2010 - val_loss: 0.2017\n",
      "Epoch 31/800\n",
      "14400/14400 [==============================] - 1s 37us/step - loss: 0.2009 - val_loss: 0.2015\n",
      "Epoch 32/800\n",
      "14400/14400 [==============================] - 0s 32us/step - loss: 0.2005 - val_loss: 0.2015\n",
      "Epoch 33/800\n",
      "14400/14400 [==============================] - 0s 21us/step - loss: 0.2011 - val_loss: 0.2012\n",
      "Epoch 34/800\n",
      "14400/14400 [==============================] - 0s 18us/step - loss: 0.2006 - val_loss: 0.2010\n",
      "Epoch 35/800\n",
      "14400/14400 [==============================] - 0s 20us/step - loss: 0.2011 - val_loss: 0.2004\n",
      "Epoch 36/800\n",
      "14400/14400 [==============================] - 0s 20us/step - loss: 0.2005 - val_loss: 0.2013\n",
      "Epoch 37/800\n",
      "14400/14400 [==============================] - 0s 18us/step - loss: 0.2000 - val_loss: 0.2003\n",
      "Epoch 38/800\n",
      "14400/14400 [==============================] - 0s 19us/step - loss: 0.1999 - val_loss: 0.1998\n",
      "Epoch 39/800\n",
      "14400/14400 [==============================] - 0s 20us/step - loss: 0.1993 - val_loss: 0.2000\n",
      "Epoch 40/800\n",
      "14400/14400 [==============================] - 0s 33us/step - loss: 0.1996 - val_loss: 0.2002\n",
      "Epoch 41/800\n",
      "14400/14400 [==============================] - 0s 26us/step - loss: 0.1991 - val_loss: 0.1990\n",
      "Epoch 42/800\n",
      "14400/14400 [==============================] - 1s 41us/step - loss: 0.1993 - val_loss: 0.1986\n",
      "Epoch 43/800\n",
      "14400/14400 [==============================] - 0s 30us/step - loss: 0.1996 - val_loss: 0.2000\n",
      "Epoch 44/800\n",
      "14400/14400 [==============================] - 1s 35us/step - loss: 0.2004 - val_loss: 0.1990\n",
      "Epoch 45/800\n",
      "14400/14400 [==============================] - 0s 33us/step - loss: 0.1994 - val_loss: 0.1989\n",
      "Epoch 46/800\n",
      "14400/14400 [==============================] - 0s 27us/step - loss: 0.1990 - val_loss: 0.1992\n",
      "Epoch 47/800\n",
      "14400/14400 [==============================] - 0s 22us/step - loss: 0.1982 - val_loss: 0.1991\n",
      "Epoch 48/800\n",
      "14400/14400 [==============================] - 0s 27us/step - loss: 0.1978 - val_loss: 0.1985\n",
      "Epoch 49/800\n",
      "14400/14400 [==============================] - 0s 25us/step - loss: 0.1979 - val_loss: 0.2003\n",
      "Epoch 50/800\n",
      "14400/14400 [==============================] - 0s 28us/step - loss: 0.1985 - val_loss: 0.1980\n",
      "Epoch 51/800\n",
      "14400/14400 [==============================] - 0s 22us/step - loss: 0.1974 - val_loss: 0.1993\n",
      "Epoch 52/800\n",
      "14400/14400 [==============================] - 0s 27us/step - loss: 0.1984 - val_loss: 0.1984\n",
      "Epoch 53/800\n",
      "14400/14400 [==============================] - 1s 45us/step - loss: 0.1969 - val_loss: 0.1973\n",
      "Epoch 54/800\n",
      "14400/14400 [==============================] - 1s 36us/step - loss: 0.1970 - val_loss: 0.1969\n",
      "Epoch 55/800\n",
      "14400/14400 [==============================] - 0s 34us/step - loss: 0.1975 - val_loss: 0.1984\n",
      "Epoch 56/800\n",
      "14400/14400 [==============================] - 0s 25us/step - loss: 0.1975 - val_loss: 0.1966\n",
      "Epoch 57/800\n",
      "14400/14400 [==============================] - 0s 20us/step - loss: 0.1967 - val_loss: 0.1973\n",
      "Epoch 58/800\n",
      "14400/14400 [==============================] - 0s 22us/step - loss: 0.1969 - val_loss: 0.1985\n",
      "Epoch 59/800\n",
      "14400/14400 [==============================] - 0s 20us/step - loss: 0.1970 - val_loss: 0.1967\n",
      "Epoch 60/800\n",
      "14400/14400 [==============================] - 0s 24us/step - loss: 0.1965 - val_loss: 0.1966\n",
      "Epoch 61/800\n",
      "14400/14400 [==============================] - 0s 28us/step - loss: 0.1963 - val_loss: 0.1965\n",
      "Epoch 62/800\n",
      "14400/14400 [==============================] - 0s 22us/step - loss: 0.1963 - val_loss: 0.1972\n",
      "Epoch 63/800\n",
      "14400/14400 [==============================] - 0s 25us/step - loss: 0.1962 - val_loss: 0.1964\n",
      "Epoch 64/800\n",
      "14400/14400 [==============================] - 0s 20us/step - loss: 0.1954 - val_loss: 0.1959\n",
      "Epoch 65/800\n",
      "14400/14400 [==============================] - 0s 27us/step - loss: 0.1964 - val_loss: 0.1956\n",
      "Epoch 66/800\n",
      "14400/14400 [==============================] - 0s 33us/step - loss: 0.1957 - val_loss: 0.1957\n",
      "Epoch 67/800\n",
      "14400/14400 [==============================] - 1s 36us/step - loss: 0.1954 - val_loss: 0.1964\n",
      "Epoch 68/800\n",
      "14400/14400 [==============================] - 0s 35us/step - loss: 0.1960 - val_loss: 0.1953\n",
      "Epoch 69/800\n",
      "14400/14400 [==============================] - 0s 28us/step - loss: 0.1953 - val_loss: 0.1950\n",
      "Epoch 70/800\n",
      "14400/14400 [==============================] - 0s 23us/step - loss: 0.1949 - val_loss: 0.1952\n",
      "Epoch 71/800\n",
      "14400/14400 [==============================] - 0s 28us/step - loss: 0.1946 - val_loss: 0.1950\n",
      "Epoch 72/800\n",
      "14400/14400 [==============================] - 0s 24us/step - loss: 0.1952 - val_loss: 0.1948\n",
      "Epoch 73/800\n",
      "14400/14400 [==============================] - 0s 29us/step - loss: 0.1945 - val_loss: 0.1947\n",
      "Epoch 74/800\n",
      "14400/14400 [==============================] - 0s 24us/step - loss: 0.1943 - val_loss: 0.1955\n",
      "Epoch 75/800\n",
      "14400/14400 [==============================] - 0s 21us/step - loss: 0.1949 - val_loss: 0.1948\n",
      "Epoch 76/800\n",
      "14400/14400 [==============================] - 0s 22us/step - loss: 0.1942 - val_loss: 0.1949\n"
     ]
    },
    {
     "name": "stdout",
     "output_type": "stream",
     "text": [
      "Epoch 77/800\n",
      "14400/14400 [==============================] - 0s 18us/step - loss: 0.1938 - val_loss: 0.1948\n",
      "Epoch 78/800\n",
      "14400/14400 [==============================] - 0s 25us/step - loss: 0.1948 - val_loss: 0.1949\n",
      "Epoch 79/800\n",
      "14400/14400 [==============================] - 0s 28us/step - loss: 0.1942 - val_loss: 0.1941\n",
      "Epoch 80/800\n",
      "14400/14400 [==============================] - 0s 24us/step - loss: 0.1935 - val_loss: 0.1948\n",
      "Epoch 81/800\n",
      "14400/14400 [==============================] - 0s 23us/step - loss: 0.1939 - val_loss: 0.1944\n",
      "Epoch 82/800\n",
      "14400/14400 [==============================] - 0s 24us/step - loss: 0.1929 - val_loss: 0.1944\n",
      "Epoch 83/800\n",
      "14400/14400 [==============================] - 0s 21us/step - loss: 0.1937 - val_loss: 0.1962\n",
      "Epoch 84/800\n",
      "14400/14400 [==============================] - 0s 20us/step - loss: 0.1949 - val_loss: 0.1949\n",
      "Epoch 85/800\n",
      "14400/14400 [==============================] - 0s 32us/step - loss: 0.1947 - val_loss: 0.1948\n",
      "Epoch 86/800\n",
      "14400/14400 [==============================] - 0s 27us/step - loss: 0.1933 - val_loss: 0.1946\n",
      "Epoch 87/800\n",
      "14400/14400 [==============================] - 0s 29us/step - loss: 0.1931 - val_loss: 0.1944\n",
      "Epoch 88/800\n",
      "14400/14400 [==============================] - 0s 25us/step - loss: 0.1931 - val_loss: 0.1946\n",
      "Epoch 89/800\n",
      "14400/14400 [==============================] - 0s 25us/step - loss: 0.1941 - val_loss: 0.1942\n",
      "Epoch 90/800\n",
      "14400/14400 [==============================] - 0s 23us/step - loss: 0.1931 - val_loss: 0.1948\n",
      "Epoch 91/800\n",
      "14400/14400 [==============================] - 0s 23us/step - loss: 0.1930 - val_loss: 0.1956\n",
      "Epoch 92/800\n",
      "14400/14400 [==============================] - 0s 30us/step - loss: 0.1924 - val_loss: 0.1953\n",
      "Epoch 93/800\n",
      "14400/14400 [==============================] - 1s 44us/step - loss: 0.1937 - val_loss: 0.1940\n",
      "Epoch 94/800\n",
      "14400/14400 [==============================] - 0s 34us/step - loss: 0.1930 - val_loss: 0.1976\n",
      "Epoch 95/800\n",
      "14400/14400 [==============================] - 0s 35us/step - loss: 0.1939 - val_loss: 0.1946\n",
      "Epoch 96/800\n",
      "14400/14400 [==============================] - 0s 26us/step - loss: 0.1939 - val_loss: 0.1953\n",
      "Epoch 97/800\n",
      "14400/14400 [==============================] - 0s 20us/step - loss: 0.1921 - val_loss: 0.1937\n",
      "Epoch 98/800\n",
      "14400/14400 [==============================] - 0s 21us/step - loss: 0.1918 - val_loss: 0.1936\n",
      "Epoch 99/800\n",
      "14400/14400 [==============================] - 0s 23us/step - loss: 0.1916 - val_loss: 0.1946\n",
      "Epoch 100/800\n",
      "14400/14400 [==============================] - 0s 26us/step - loss: 0.1923 - val_loss: 0.1947\n",
      "Epoch 101/800\n",
      "14400/14400 [==============================] - 0s 33us/step - loss: 0.1930 - val_loss: 0.1955\n",
      "Epoch 102/800\n",
      "14400/14400 [==============================] - 0s 30us/step - loss: 0.1914 - val_loss: 0.1939\n",
      "Epoch 103/800\n",
      "14400/14400 [==============================] - 0s 28us/step - loss: 0.1914 - val_loss: 0.1942\n",
      "Epoch 104/800\n",
      "14400/14400 [==============================] - 0s 32us/step - loss: 0.1919 - val_loss: 0.1942\n",
      "Epoch 105/800\n",
      "14400/14400 [==============================] - 1s 52us/step - loss: 0.1918 - val_loss: 0.1933\n",
      "Epoch 106/800\n",
      "14400/14400 [==============================] - 1s 60us/step - loss: 0.1917 - val_loss: 0.1933\n",
      "Epoch 107/800\n",
      "14400/14400 [==============================] - 1s 40us/step - loss: 0.1914 - val_loss: 0.1936\n",
      "Epoch 108/800\n",
      "14400/14400 [==============================] - 0s 31us/step - loss: 0.1910 - val_loss: 0.1940\n",
      "Epoch 109/800\n",
      "14400/14400 [==============================] - 0s 23us/step - loss: 0.1911 - val_loss: 0.1954\n",
      "Epoch 110/800\n",
      "14400/14400 [==============================] - 0s 22us/step - loss: 0.1919 - val_loss: 0.1949\n",
      "Epoch 111/800\n",
      "14400/14400 [==============================] - 0s 21us/step - loss: 0.1922 - val_loss: 0.1948\n",
      "Epoch 112/800\n",
      "14400/14400 [==============================] - 0s 29us/step - loss: 0.1914 - val_loss: 0.1949\n",
      "Epoch 113/800\n",
      "14400/14400 [==============================] - 0s 32us/step - loss: 0.1916 - val_loss: 0.1946\n",
      "Epoch 114/800\n",
      "14400/14400 [==============================] - 1s 48us/step - loss: 0.1919 - val_loss: 0.1983\n",
      "Epoch 115/800\n",
      "14400/14400 [==============================] - 1s 38us/step - loss: 0.1923 - val_loss: 0.1948\n",
      "Epoch 116/800\n",
      "14400/14400 [==============================] - 0s 33us/step - loss: 0.1910 - val_loss: 0.1949\n",
      "Epoch 117/800\n",
      "14400/14400 [==============================] - 1s 49us/step - loss: 0.1907 - val_loss: 0.1943\n",
      "Epoch 118/800\n",
      "14400/14400 [==============================] - ETA: 0s - loss: 0.191 - 0s 33us/step - loss: 0.1908 - val_loss: 0.1941\n",
      "Epoch 119/800\n",
      "14400/14400 [==============================] - 0s 23us/step - loss: 0.1902 - val_loss: 0.1943\n",
      "Epoch 120/800\n",
      "14400/14400 [==============================] - 0s 23us/step - loss: 0.1904 - val_loss: 0.1940\n",
      "Epoch 121/800\n",
      "14400/14400 [==============================] - 0s 30us/step - loss: 0.1904 - val_loss: 0.1935\n",
      "Epoch 122/800\n",
      "14400/14400 [==============================] - 0s 27us/step - loss: 0.1904 - val_loss: 0.1943\n",
      "Epoch 123/800\n",
      "14400/14400 [==============================] - 0s 23us/step - loss: 0.1914 - val_loss: 0.1957\n",
      "Epoch 124/800\n",
      "14400/14400 [==============================] - 0s 25us/step - loss: 0.1906 - val_loss: 0.1951\n",
      "Epoch 125/800\n",
      "14400/14400 [==============================] - 0s 25us/step - loss: 0.1902 - val_loss: 0.1938\n",
      "Epoch 126/800\n",
      "14400/14400 [==============================] - 0s 26us/step - loss: 0.1907 - val_loss: 0.1941\n",
      "Epoch 127/800\n",
      "14400/14400 [==============================] - 0s 31us/step - loss: 0.1910 - val_loss: 0.1942\n",
      "Epoch 128/800\n",
      "14400/14400 [==============================] - 1s 40us/step - loss: 0.1908 - val_loss: 0.1950\n",
      "Epoch 129/800\n",
      "14400/14400 [==============================] - 0s 34us/step - loss: 0.1901 - val_loss: 0.1932\n",
      "Epoch 130/800\n",
      "14400/14400 [==============================] - 0s 34us/step - loss: 0.1896 - val_loss: 0.1952\n",
      "Epoch 131/800\n",
      "14400/14400 [==============================] - 0s 24us/step - loss: 0.1902 - val_loss: 0.1935\n",
      "Epoch 132/800\n",
      "14400/14400 [==============================] - 0s 22us/step - loss: 0.1911 - val_loss: 0.1956\n",
      "Epoch 133/800\n",
      "14400/14400 [==============================] - 0s 21us/step - loss: 0.1897 - val_loss: 0.1942\n",
      "Epoch 134/800\n",
      "14400/14400 [==============================] - 0s 21us/step - loss: 0.1895 - val_loss: 0.1941\n",
      "Epoch 135/800\n",
      "14400/14400 [==============================] - 0s 20us/step - loss: 0.1896 - val_loss: 0.1942\n",
      "Epoch 136/800\n",
      "14400/14400 [==============================] - 0s 29us/step - loss: 0.1892 - val_loss: 0.1934\n",
      "Epoch 137/800\n",
      "14400/14400 [==============================] - 0s 34us/step - loss: 0.1901 - val_loss: 0.1947\n",
      "Epoch 138/800\n",
      "14400/14400 [==============================] - 1s 39us/step - loss: 0.1893 - val_loss: 0.1943\n",
      "Epoch 139/800\n",
      "14400/14400 [==============================] - 0s 31us/step - loss: 0.1893 - val_loss: 0.1940\n",
      "Epoch 140/800\n",
      "14400/14400 [==============================] - 1s 35us/step - loss: 0.1880 - val_loss: 0.1938\n",
      "Epoch 141/800\n",
      "14400/14400 [==============================] - 0s 33us/step - loss: 0.1885 - val_loss: 0.1939\n",
      "Epoch 142/800\n",
      "14400/14400 [==============================] - 1s 35us/step - loss: 0.1889 - val_loss: 0.1950\n",
      "Epoch 143/800\n",
      "14400/14400 [==============================] - 0s 30us/step - loss: 0.1892 - val_loss: 0.1937\n",
      "Epoch 144/800\n",
      "14400/14400 [==============================] - 0s 23us/step - loss: 0.1889 - val_loss: 0.1951\n",
      "Epoch 145/800\n",
      "14400/14400 [==============================] - 0s 21us/step - loss: 0.1889 - val_loss: 0.1943\n",
      "Epoch 146/800\n",
      "14400/14400 [==============================] - 0s 25us/step - loss: 0.1890 - val_loss: 0.1945\n",
      "Epoch 147/800\n",
      "14400/14400 [==============================] - 0s 23us/step - loss: 0.1895 - val_loss: 0.1944\n",
      "Epoch 148/800\n",
      "14400/14400 [==============================] - 0s 20us/step - loss: 0.1896 - val_loss: 0.1945\n",
      "Epoch 149/800\n",
      "14400/14400 [==============================] - 0s 30us/step - loss: 0.1896 - val_loss: 0.1941\n",
      "Epoch 150/800\n",
      "14400/14400 [==============================] - 0s 33us/step - loss: 0.1889 - val_loss: 0.1943\n",
      "Epoch 151/800\n",
      "14400/14400 [==============================] - 0s 26us/step - loss: 0.1888 - val_loss: 0.1937\n",
      "Epoch 152/800\n"
     ]
    },
    {
     "name": "stdout",
     "output_type": "stream",
     "text": [
      "14400/14400 [==============================] - 1s 35us/step - loss: 0.1894 - val_loss: 0.1934\n",
      "Epoch 153/800\n",
      "14400/14400 [==============================] - 0s 33us/step - loss: 0.1887 - val_loss: 0.1941\n",
      "Epoch 154/800\n",
      "14400/14400 [==============================] - 0s 34us/step - loss: 0.1883 - val_loss: 0.1940\n",
      "Epoch 155/800\n",
      "14400/14400 [==============================] - 0s 26us/step - loss: 0.1892 - val_loss: 0.1943\n",
      "Epoch 156/800\n",
      "14400/14400 [==============================] - 0s 30us/step - loss: 0.1891 - val_loss: 0.1953\n",
      "Epoch 157/800\n",
      "14400/14400 [==============================] - 0s 22us/step - loss: 0.1892 - val_loss: 0.1958\n",
      "Epoch 158/800\n",
      "14400/14400 [==============================] - 0s 20us/step - loss: 0.1883 - val_loss: 0.1942\n",
      "Epoch 159/800\n",
      "14400/14400 [==============================] - 0s 20us/step - loss: 0.1878 - val_loss: 0.1948\n",
      "Epoch 160/800\n",
      "14400/14400 [==============================] - 0s 20us/step - loss: 0.1888 - val_loss: 0.1931\n",
      "Epoch 161/800\n",
      "14400/14400 [==============================] - 0s 22us/step - loss: 0.1887 - val_loss: 0.1939\n",
      "Epoch 162/800\n",
      "14400/14400 [==============================] - 0s 22us/step - loss: 0.1885 - val_loss: 0.1940\n",
      "Epoch 163/800\n",
      "14400/14400 [==============================] - 0s 23us/step - loss: 0.1900 - val_loss: 0.1961\n",
      "Epoch 164/800\n",
      "14400/14400 [==============================] - 0s 22us/step - loss: 0.1899 - val_loss: 0.1946\n",
      "Epoch 165/800\n",
      "14400/14400 [==============================] - 0s 29us/step - loss: 0.1882 - val_loss: 0.1932\n",
      "Epoch 166/800\n",
      "14400/14400 [==============================] - 0s 24us/step - loss: 0.1879 - val_loss: 0.1932\n",
      "Epoch 167/800\n",
      "14400/14400 [==============================] - 0s 21us/step - loss: 0.1877 - val_loss: 0.1943\n",
      "Epoch 168/800\n",
      "14400/14400 [==============================] - 0s 18us/step - loss: 0.1884 - val_loss: 0.1933\n",
      "Epoch 169/800\n",
      "14400/14400 [==============================] - 0s 19us/step - loss: 0.1876 - val_loss: 0.1930\n",
      "Epoch 170/800\n",
      "14400/14400 [==============================] - 0s 18us/step - loss: 0.1885 - val_loss: 0.1951\n",
      "Epoch 171/800\n",
      "14400/14400 [==============================] - 0s 19us/step - loss: 0.1885 - val_loss: 0.1936\n",
      "Epoch 172/800\n",
      "14400/14400 [==============================] - 0s 23us/step - loss: 0.1876 - val_loss: 0.1934\n",
      "Epoch 173/800\n",
      "14400/14400 [==============================] - 0s 23us/step - loss: 0.1879 - val_loss: 0.1951\n",
      "Epoch 174/800\n",
      "14400/14400 [==============================] - 0s 20us/step - loss: 0.1885 - val_loss: 0.1960\n",
      "Epoch 175/800\n",
      "14400/14400 [==============================] - 0s 26us/step - loss: 0.1884 - val_loss: 0.1941\n",
      "Epoch 176/800\n",
      "14400/14400 [==============================] - 0s 24us/step - loss: 0.1866 - val_loss: 0.1938\n",
      "Epoch 177/800\n",
      "14400/14400 [==============================] - 0s 28us/step - loss: 0.1875 - val_loss: 0.1929\n",
      "Epoch 178/800\n",
      "14400/14400 [==============================] - 0s 24us/step - loss: 0.1880 - val_loss: 0.1935\n",
      "Epoch 179/800\n",
      "14400/14400 [==============================] - 0s 28us/step - loss: 0.1866 - val_loss: 0.1945\n",
      "Epoch 180/800\n",
      "14400/14400 [==============================] - 0s 24us/step - loss: 0.1879 - val_loss: 0.1939\n",
      "Epoch 181/800\n",
      "14400/14400 [==============================] - 0s 28us/step - loss: 0.1871 - val_loss: 0.1937\n",
      "Epoch 182/800\n",
      "14400/14400 [==============================] - 0s 24us/step - loss: 0.1869 - val_loss: 0.1936\n",
      "Epoch 183/800\n",
      "14400/14400 [==============================] - 0s 20us/step - loss: 0.1881 - val_loss: 0.1937\n",
      "Epoch 184/800\n",
      "14400/14400 [==============================] - 0s 30us/step - loss: 0.1873 - val_loss: 0.1939\n",
      "Epoch 185/800\n",
      "14400/14400 [==============================] - 0s 26us/step - loss: 0.1868 - val_loss: 0.1941\n",
      "Epoch 186/800\n",
      "14400/14400 [==============================] - 0s 23us/step - loss: 0.1878 - val_loss: 0.1937\n",
      "Epoch 187/800\n",
      "14400/14400 [==============================] - 0s 20us/step - loss: 0.1875 - val_loss: 0.1930\n",
      "Epoch 188/800\n",
      "14400/14400 [==============================] - 0s 17us/step - loss: 0.1873 - val_loss: 0.1928\n",
      "Epoch 189/800\n",
      "14400/14400 [==============================] - 0s 27us/step - loss: 0.1866 - val_loss: 0.1932\n",
      "Epoch 190/800\n",
      "14400/14400 [==============================] - 0s 28us/step - loss: 0.1875 - val_loss: 0.1952\n",
      "Epoch 191/800\n",
      "14400/14400 [==============================] - 0s 27us/step - loss: 0.1879 - val_loss: 0.1935\n",
      "Epoch 192/800\n",
      "14400/14400 [==============================] - 0s 28us/step - loss: 0.1894 - val_loss: 0.1955\n",
      "Epoch 193/800\n",
      "14400/14400 [==============================] - 0s 31us/step - loss: 0.1873 - val_loss: 0.1941\n",
      "Epoch 194/800\n",
      "14400/14400 [==============================] - 1s 41us/step - loss: 0.1863 - val_loss: 0.1934\n",
      "Epoch 195/800\n",
      "14400/14400 [==============================] - 0s 31us/step - loss: 0.1869 - val_loss: 0.1942\n",
      "Epoch 196/800\n",
      "14400/14400 [==============================] - 0s 21us/step - loss: 0.1865 - val_loss: 0.1958\n",
      "Epoch 197/800\n",
      "14400/14400 [==============================] - 0s 21us/step - loss: 0.1884 - val_loss: 0.1948\n",
      "Epoch 198/800\n",
      "14400/14400 [==============================] - 0s 26us/step - loss: 0.1871 - val_loss: 0.1943\n",
      "Epoch 199/800\n",
      "14400/14400 [==============================] - 0s 24us/step - loss: 0.1868 - val_loss: 0.1945\n",
      "Epoch 200/800\n",
      "14400/14400 [==============================] - 0s 20us/step - loss: 0.1885 - val_loss: 0.1959\n",
      "Epoch 201/800\n",
      "14400/14400 [==============================] - 0s 26us/step - loss: 0.1868 - val_loss: 0.1937\n",
      "Epoch 202/800\n",
      "14400/14400 [==============================] - 0s 26us/step - loss: 0.1859 - val_loss: 0.1944\n",
      "Epoch 203/800\n",
      "14400/14400 [==============================] - 0s 23us/step - loss: 0.1867 - val_loss: 0.1943\n",
      "Epoch 204/800\n",
      "14400/14400 [==============================] - 0s 25us/step - loss: 0.1880 - val_loss: 0.1953\n",
      "Epoch 205/800\n",
      "14400/14400 [==============================] - 0s 28us/step - loss: 0.1872 - val_loss: 0.1951\n",
      "Epoch 206/800\n",
      "14400/14400 [==============================] - 0s 31us/step - loss: 0.1871 - val_loss: 0.1947\n",
      "Epoch 207/800\n",
      "14400/14400 [==============================] - 1s 37us/step - loss: 0.1868 - val_loss: 0.1940\n",
      "Epoch 208/800\n",
      "14400/14400 [==============================] - 0s 35us/step - loss: 0.1868 - val_loss: 0.1951\n",
      "Epoch 209/800\n",
      "14400/14400 [==============================] - 1s 38us/step - loss: 0.1856 - val_loss: 0.1943\n",
      "Epoch 210/800\n",
      "14400/14400 [==============================] - 0s 31us/step - loss: 0.1857 - val_loss: 0.1953\n",
      "Epoch 211/800\n",
      "14400/14400 [==============================] - 1s 42us/step - loss: 0.1854 - val_loss: 0.1956\n",
      "Epoch 212/800\n",
      "14400/14400 [==============================] - 0s 27us/step - loss: 0.1877 - val_loss: 0.1945\n",
      "Epoch 213/800\n",
      "14400/14400 [==============================] - 0s 26us/step - loss: 0.1864 - val_loss: 0.1937\n",
      "Epoch 214/800\n",
      "14400/14400 [==============================] - 0s 28us/step - loss: 0.1856 - val_loss: 0.1966\n",
      "Epoch 215/800\n",
      "14400/14400 [==============================] - 0s 26us/step - loss: 0.1860 - val_loss: 0.1947\n",
      "Epoch 216/800\n",
      "14400/14400 [==============================] - 0s 24us/step - loss: 0.1855 - val_loss: 0.1939\n",
      "Epoch 217/800\n",
      "14400/14400 [==============================] - 0s 22us/step - loss: 0.1865 - val_loss: 0.1944\n",
      "Epoch 218/800\n",
      "14400/14400 [==============================] - 0s 24us/step - loss: 0.1861 - val_loss: 0.1967\n",
      "Epoch 219/800\n",
      "14400/14400 [==============================] - 0s 27us/step - loss: 0.1864 - val_loss: 0.1962\n",
      "Epoch 220/800\n",
      "14400/14400 [==============================] - 0s 28us/step - loss: 0.1869 - val_loss: 0.1965\n",
      "Epoch 221/800\n",
      "14400/14400 [==============================] - 0s 28us/step - loss: 0.1864 - val_loss: 0.1947\n",
      "Epoch 222/800\n",
      "14400/14400 [==============================] - 1s 41us/step - loss: 0.1855 - val_loss: 0.1945\n",
      "Epoch 223/800\n",
      "14400/14400 [==============================] - 1s 36us/step - loss: 0.1858 - val_loss: 0.1943\n",
      "Epoch 224/800\n",
      "14400/14400 [==============================] - 0s 27us/step - loss: 0.1857 - val_loss: 0.1937\n",
      "Epoch 225/800\n",
      "14400/14400 [==============================] - 0s 30us/step - loss: 0.1863 - val_loss: 0.1949\n",
      "Epoch 226/800\n",
      "14400/14400 [==============================] - 0s 24us/step - loss: 0.1860 - val_loss: 0.1947\n",
      "Epoch 227/800\n",
      "14400/14400 [==============================] - 0s 23us/step - loss: 0.1858 - val_loss: 0.1936\n"
     ]
    },
    {
     "name": "stdout",
     "output_type": "stream",
     "text": [
      "Epoch 228/800\n",
      "14400/14400 [==============================] - 0s 19us/step - loss: 0.1854 - val_loss: 0.1946\n",
      "Epoch 229/800\n",
      "14400/14400 [==============================] - 0s 20us/step - loss: 0.1843 - val_loss: 0.1937\n",
      "Epoch 230/800\n",
      "14400/14400 [==============================] - 0s 17us/step - loss: 0.1856 - val_loss: 0.1938\n",
      "Epoch 231/800\n",
      "14400/14400 [==============================] - 0s 18us/step - loss: 0.1846 - val_loss: 0.1941\n",
      "Epoch 232/800\n",
      "14400/14400 [==============================] - 0s 17us/step - loss: 0.1846 - val_loss: 0.1945\n",
      "Epoch 233/800\n",
      "14400/14400 [==============================] - 0s 31us/step - loss: 0.1863 - val_loss: 0.1950\n",
      "Epoch 234/800\n",
      "14400/14400 [==============================] - 0s 35us/step - loss: 0.1858 - val_loss: 0.1952\n",
      "Epoch 235/800\n",
      "14400/14400 [==============================] - 0s 28us/step - loss: 0.1855 - val_loss: 0.1957\n",
      "Epoch 236/800\n",
      "14400/14400 [==============================] - 1s 40us/step - loss: 0.1852 - val_loss: 0.1941\n",
      "Epoch 237/800\n",
      "14400/14400 [==============================] - 0s 33us/step - loss: 0.1846 - val_loss: 0.1952\n",
      "Epoch 238/800\n",
      "14400/14400 [==============================] - 0s 26us/step - loss: 0.1851 - val_loss: 0.1957\n"
     ]
    }
   ],
   "source": [
    "ratio = 0.225\n",
    "print('Building Neural Network model...')\n",
    "#adam = optimizers.Adagrad(lr=0.2, epsilon=None, decay=0.0)\n",
    "adam = optimizers.Adam(lr=0.2, beta_1=0.9, beta_2=0.999, epsilon=None, decay=0.0, amsgrad=False)\n",
    "class_weight = {0:ratio, 1:1-ratio}\n",
    "model = Sequential()\n",
    "\n",
    "model.add(Dense(32, input_dim=X_train.shape[1],\n",
    "                kernel_initializer='normal',\n",
    "                #kernel_regularizer=regularizers.l2(100),\n",
    "                activation=\"relu\"))\n",
    "\n",
    "model.add(Dense(32,\n",
    "                kernel_initializer='normal',\n",
    "                #kernel_regularizer=regularizers.l2(100),\n",
    "                activation=\"relu\"))\n",
    "\n",
    "model.add(Dropout(0.1))\n",
    "\n",
    "model.add(Dense(32,\n",
    "                kernel_initializer='normal',\n",
    "                #kernel_regularizer=regularizers.l2(100),\n",
    "                activation=\"relu\"))\n",
    "\n",
    "model.add(Dense(32,\n",
    "                kernel_initializer='normal',\n",
    "                #kernel_regularizer=regularizers.l2(100),\n",
    "                activation=\"relu\"))\n",
    "\n",
    "model.add(Dense(1))\n",
    "model.add(Activation(\"sigmoid\"))\n",
    "model.compile(loss=\"binary_crossentropy\", optimizer='adam')\n",
    "callbacks = [EarlyStopping(monitor='val_loss', min_delta=0, patience=50)]\n",
    "\n",
    "history = model.fit(X_train, y_train, validation_split=0.20, epochs=800, batch_size=1024, \\\n",
    "                    class_weight=class_weight, callbacks=callbacks)"
   ]
  },
  {
   "cell_type": "code",
   "execution_count": 315,
   "metadata": {},
   "outputs": [
    {
     "data": {
      "image/png": "[encoded data removed]",
      "text/plain": [
       "<matplotlib.figure.Figure at 0x272db422ef0>"
      ]
     },
     "metadata": {},
     "output_type": "display_data"
    }
   ],
   "source": [
    "y_hat = model.predict_proba(X_test)\n",
    "skplt.metrics.plot_precision_recall_curve(y_test, np.concatenate([1-y_hat, y_hat], axis = 1))\n",
    "plt.show()"
   ]
  },
  {
   "cell_type": "code",
   "execution_count": 330,
   "metadata": {},
   "outputs": [
    {
     "data": {
      "image/png": "[encoded data removed]",
      "text/plain": [
       "<matplotlib.figure.Figure at 0x272dd7ed6d8>"
      ]
     },
     "metadata": {},
     "output_type": "display_data"
    }
   ],
   "source": [
    "y_hat = model.predict_proba(X_test)\n",
    "skplt.metrics.plot_roc_curve(y_test, np.concatenate([1-y_hat, y_hat], axis = 1))\n",
    "plt.show()"
   ]
  },
  {
   "cell_type": "code",
   "execution_count": 296,
   "metadata": {},
   "outputs": [
    {
     "data": {
      "text/plain": [
       "array([[7608, 1710],\n",
       "       [1109, 1573]], dtype=int64)"
      ]
     },
     "execution_count": 296,
     "metadata": {},
     "output_type": "execute_result"
    }
   ],
   "source": [
    "y_hat_01 = model.predict_classes(X_test)\n",
    "\n",
    "from sklearn.metrics import confusion_matrix\n",
    "confusion_matrix(y_test, y_hat_01)"
   ]
  },
  {
   "cell_type": "code",
   "execution_count": 248,
   "metadata": {},
   "outputs": [
    {
     "data": {
      "text/plain": [
       "array([[11481,  2565],\n",
       "       [ 1639,  2315]], dtype=int64)"
      ]
     },
     "execution_count": 248,
     "metadata": {},
     "output_type": "execute_result"
    }
   ],
   "source": [
    "y_hat_train_01 = model.predict_classes(X_train)\n",
    "confusion_matrix(y_train, y_hat_train_01)"
   ]
  },
  {
   "cell_type": "code",
   "execution_count": 265,
   "metadata": {},
   "outputs": [
    {
     "data": {
      "text/plain": [
       "0.48695003728560776"
      ]
     },
     "execution_count": 265,
     "metadata": {},
     "output_type": "execute_result"
    }
   ],
   "source": [
    "from sklearn.metrics import recall_score\n",
    "\n",
    "recall_score(y_test, y_hat_01)"
   ]
  },
  {
   "cell_type": "code",
   "execution_count": 266,
   "metadata": {},
   "outputs": [
    {
     "data": {
      "text/plain": [
       "0.5683202785030461"
      ]
     },
     "execution_count": 266,
     "metadata": {},
     "output_type": "execute_result"
    }
   ],
   "source": [
    "from sklearn.metrics import precision_score\n",
    "\n",
    "precision_score(y_test, y_hat_01)"
   ]
  },
  {
   "cell_type": "code",
   "execution_count": 267,
   "metadata": {},
   "outputs": [
    {
     "data": {
      "text/plain": [
       "0.5244979919678715"
      ]
     },
     "execution_count": 267,
     "metadata": {},
     "output_type": "execute_result"
    }
   ],
   "source": [
    "from sklearn.metrics import f1_score\n",
    "\n",
    "f1_score(y_test, y_hat_01)"
   ]
  },
  {
   "cell_type": "code",
   "execution_count": 268,
   "metadata": {},
   "outputs": [
    {
     "data": {
      "text/plain": [
       "0.8026666666666666"
      ]
     },
     "execution_count": 268,
     "metadata": {},
     "output_type": "execute_result"
    }
   ],
   "source": [
    "from sklearn.metrics import accuracy_score\n",
    "\n",
    "accuracy_score(y_test, y_hat_01)"
   ]
  },
  {
   "cell_type": "code",
   "execution_count": 331,
   "metadata": {},
   "outputs": [
    {
     "data": {
      "text/plain": [
       "[<matplotlib.lines.Line2D at 0x272d6b0fcc0>]"
      ]
     },
     "execution_count": 331,
     "metadata": {},
     "output_type": "execute_result"
    },
    {
     "data": {
      "image/png": "[encoded data removed]",
      "text/plain": [
       "<matplotlib.figure.Figure at 0x272d6b0f240>"
      ]
     },
     "metadata": {},
     "output_type": "display_data"
    }
   ],
   "source": [
    "plt.plot(history.history['loss'])\n",
    "plt.plot(history.history['val_loss'])"
   ]
  },
  {
   "cell_type": "code",
   "execution_count": 332,
   "metadata": {},
   "outputs": [
    {
     "data": {
      "image/png": "[encoded data removed]",
      "text/plain": [
       "<matplotlib.figure.Figure at 0x272d80faf60>"
      ]
     },
     "metadata": {},
     "output_type": "display_data"
    }
   ],
   "source": [
    "from sklearn import metrics\n",
    "y_hat = model.predict_proba(X_test)\n",
    "fpr, tpr, threshold = metrics.roc_curve(y_test, y_hat)\n",
    "roc_auc = metrics.auc(fpr, tpr)\n",
    "\n",
    "# method I: plt\n",
    "import matplotlib.pyplot as plt\n",
    "plt.title('Receiver Operating Characteristic')\n",
    "plt.plot(fpr, tpr, 'b', label = 'AUC = %0.10f' % roc_auc)\n",
    "plt.legend(loc = 'lower right')\n",
    "plt.plot([0, 1], [0, 1],'r--')\n",
    "plt.xlim([0, 1])\n",
    "plt.ylim([0, 1])\n",
    "plt.ylabel('True Positive Rate')\n",
    "plt.xlabel('False Positive Rate')\n",
    "plt.show()"
   ]
  },
  {
   "cell_type": "code",
   "execution_count": 255,
   "metadata": {},
   "outputs": [],
   "source": [
    "y_hat_ada = pd.read_csv('ada.csv')\n",
    "y_hat_rf = pd.read_csv('rf.csv')"
   ]
  },
  {
   "cell_type": "code",
   "execution_count": 256,
   "metadata": {},
   "outputs": [],
   "source": [
    "y_hat_ensemble = (y_hat_ada.iloc[:,0] + y_hat_ada.iloc[:,1] + pd.Series(y_hat.ravel()))/3"
   ]
  },
  {
   "cell_type": "code",
   "execution_count": 357,
   "metadata": {},
   "outputs": [
    {
     "name": "stdout",
     "output_type": "stream",
     "text": [
      "5828 0.0 0.00017943650249036057 0.9996867564104709 0.76666316138738\n"
     ]
    }
   ],
   "source": [
    "from sklearn import metrics\n",
    "\n",
    "for i in range(10000):\n",
    "    r1 = np.random.random()\n",
    "    r1 = 0\n",
    "    r2 = np.random.random()\n",
    "    r3 = np.random.random()\n",
    "\n",
    "        \n",
    "    r1 = r1 / (r1+r2+r3)\n",
    "    r2 = r2 / (r1+r2+r3)\n",
    "    r3 = r3 / (r1+r2+r3)\n",
    "    y_hat_ensemble = (y_hat_ada.iloc[:,1]) * r1 + (y_hat_rf.iloc[:,1]) * r2 + pd.Series(y_hat.ravel()) * r3\n",
    "\n",
    "    fpr, tpr, threshold = metrics.roc_curve(y_test, y_hat_ensemble)\n",
    "    roc_auc = metrics.auc(fpr, tpr)\n",
    "    \n",
    "    if roc_auc  > 0.766663:\n",
    "        print(i, r1, r2, r3, roc_auc)"
   ]
  },
  {
   "cell_type": "code",
   "execution_count": 358,
   "metadata": {},
   "outputs": [
    {
     "data": {
      "image/png": "[encoded data removed]",
      "text/plain": [
       "<matplotlib.figure.Figure at 0x272e097b5c0>"
      ]
     },
     "metadata": {},
     "output_type": "display_data"
    }
   ],
   "source": [
    "from sklearn import metrics\n",
    "\n",
    "y_hat_ensemble =   (y_hat_ada.iloc[:,1]) * 0.00017943650249036057 + pd.Series(y_hat.ravel()) * 0.9996867564104709\n",
    "fpr, tpr, threshold = metrics.roc_curve(y_test, y_hat_ensemble)\n",
    "roc_auc = metrics.auc(fpr, tpr)\n",
    "\n",
    "# method I: plt\n",
    "import matplotlib.pyplot as plt\n",
    "plt.title('Receiver Operating Characteristic')\n",
    "plt.plot(fpr, tpr, 'b', label = 'AUC = %0.10f' % roc_auc)\n",
    "plt.legend(loc = 'lower right')\n",
    "plt.plot([0, 1], [0, 1],'r--')\n",
    "plt.xlim([0, 1])\n",
    "plt.ylim([0, 1])\n",
    "plt.ylabel('True Positive Rate')\n",
    "plt.xlabel('False Positive Rate')\n",
    "plt.show()"
   ]
  },
  {
   "cell_type": "code",
   "execution_count": 359,
   "metadata": {},
   "outputs": [],
   "source": [
    "pd.DataFrame(y_hat).to_csv('nn.csv', index = False)"
   ]
  },
  {
   "cell_type": "code",
   "execution_count": 360,
   "metadata": {},
   "outputs": [],
   "source": [
    "pd.DataFrame(y_hat_ensemble).to_csv('ensemble.csv', index = False)"
   ]
  },
  {
   "cell_type": "code",
   "execution_count": 369,
   "metadata": {},
   "outputs": [],
   "source": [
    "pd.DataFrame(X_train).sample(n=200).to_csv('down.csv', index = False)"
   ]
  },
  {
   "cell_type": "code",
   "execution_count": 373,
   "metadata": {},
   "outputs": [],
   "source": [
    "raw_df.sample(n=200).to_csv('down.csv', index = False)"
   ]
  },
  {
   "cell_type": "code",
   "execution_count": null,
   "metadata": {},
   "outputs": [],
   "source": []
  }
 ],
 "metadata": {
  "kernelspec": {
   "display_name": "Python 3",
   "language": "python",
   "name": "python3"
  },
  "language_info": {
   "codemirror_mode": {
    "name": "ipython",
    "version": 3
   },
   "file_extension": ".py",
   "mimetype": "text/x-python",
   "name": "python",
   "nbconvert_exporter": "python",
   "pygments_lexer": "ipython3",
   "version": "3.6.4"
  }
 },
 "nbformat": 4,
 "nbformat_minor": 2
}
