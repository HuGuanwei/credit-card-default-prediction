{
 "cells": [
  {
   "cell_type": "code",
   "execution_count": 1,
   "metadata": {},
   "outputs": [
    {
     "name": "stderr",
     "output_type": "stream",
     "text": [
      "D:\\Anaconda\\lib\\site-packages\\h5py\\__init__.py:36: FutureWarning: Conversion of the second argument of issubdtype from `float` to `np.floating` is deprecated. In future, it will be treated as `np.float64 == np.dtype(float).type`.\n",
      "  from ._conv import register_converters as _register_converters\n",
      "Using TensorFlow backend.\n"
     ]
    }
   ],
   "source": [
    "from sklearn.model_selection import train_test_split\n",
    "from imblearn.over_sampling import SMOTE\n",
    "import scikitplot as skplt\n",
    "import seaborn as sns\n",
    "import numpy as np\n",
    "import pandas as pd\n",
    "import matplotlib.pyplot as plt\n",
    "plt.style.use('seaborn')\n",
    "\n",
    "from keras import optimizers\n",
    "from keras.models import Sequential\n",
    "from keras.layers import Activation, Dense, Dropout\n",
    "from keras import regularizers\n",
    "from keras.callbacks import EarlyStopping"
   ]
  },
  {
   "cell_type": "code",
   "execution_count": 111,
   "metadata": {},
   "outputs": [],
   "source": [
    "raw_df = pd.read_excel('C:\\\\Users\\\\Merci\\\\Desktop\\\\New folder\\\\credit-card-default-prediction\\\\default_of_credit_card_clients.xls', skiprows=1)\n",
    "raw_df.drop(['ID'], axis = 1, inplace = True)"
   ]
  },
  {
   "cell_type": "code",
   "execution_count": 121,
   "metadata": {
    "scrolled": true
   },
   "outputs": [
    {
     "data": {
      "text/plain": [
       "Index(['LIMIT_BAL', 'SEX', 'EDUCATION', 'MARRIAGE', 'AGE', 'PAY_0', 'PAY_2',\n",
       "       'PAY_3', 'PAY_4', 'PAY_5', 'PAY_6', 'BILL_AMT1', 'BILL_AMT2',\n",
       "       'BILL_AMT3', 'BILL_AMT4', 'BILL_AMT5', 'BILL_AMT6', 'PAY_AMT1',\n",
       "       'PAY_AMT2', 'PAY_AMT3', 'PAY_AMT4', 'PAY_AMT5', 'PAY_AMT6',\n",
       "       'default payment next month'],\n",
       "      dtype='object')"
      ]
     },
     "execution_count": 121,
     "metadata": {},
     "output_type": "execute_result"
    }
   ],
   "source": [
    "raw_df.columns"
   ]
  },
  {
   "cell_type": "code",
   "execution_count": 123,
   "metadata": {},
   "outputs": [
    {
     "data": {
      "text/plain": [
       "Index(['LIMIT_BAL', 'AGE', 'PAY_0', 'PAY_2', 'PAY_3', 'PAY_4', 'PAY_5',\n",
       "       'PAY_6', 'BILL_AMT1', 'BILL_AMT2', 'BILL_AMT3', 'BILL_AMT4',\n",
       "       'BILL_AMT5', 'BILL_AMT6', 'PAY_AMT1', 'PAY_AMT2', 'PAY_AMT3',\n",
       "       'PAY_AMT4', 'PAY_AMT5', 'PAY_AMT6', 'default payment next month',\n",
       "       'EDUCATION_0', 'EDUCATION_1', 'EDUCATION_2', 'EDUCATION_3',\n",
       "       'EDUCATION_4', 'EDUCATION_5', 'EDUCATION_6', 'MARRIAGE_0', 'MARRIAGE_1',\n",
       "       'MARRIAGE_2', 'MARRIAGE_3', 'SEX_1', 'SEX_2'],\n",
       "      dtype='object')"
      ]
     },
     "execution_count": 123,
     "metadata": {},
     "output_type": "execute_result"
    }
   ],
   "source": [
    "data_one_hot = pd.get_dummies(raw_df, columns=['EDUCATION', 'MARRIAGE', 'SEX'])\n",
    "data_one_hot.columns"
   ]
  },
  {
   "cell_type": "code",
   "execution_count": 180,
   "metadata": {},
   "outputs": [],
   "source": [
    "X = data_one_hot[['LIMIT_BAL', 'AGE', 'PAY_0','BILL_AMT6', 'PAY_AMT1', 'PAY_AMT2', 'PAY_AMT3',\n",
    "       'PAY_AMT4', 'PAY_AMT5', 'PAY_AMT6',\n",
    "       'EDUCATION_0', 'EDUCATION_1', 'EDUCATION_2', 'EDUCATION_3',\n",
    "       'EDUCATION_4', 'EDUCATION_5', 'EDUCATION_6', 'MARRIAGE_0', 'MARRIAGE_1',\n",
    "       'MARRIAGE_2', 'MARRIAGE_3', 'SEX_1', 'SEX_2']]\n",
    "\n",
    "y = data_one_hot['default payment next month']"
   ]
  },
  {
   "cell_type": "code",
   "execution_count": 181,
   "metadata": {},
   "outputs": [
    {
     "data": {
      "text/plain": [
       "23"
      ]
     },
     "execution_count": 181,
     "metadata": {},
     "output_type": "execute_result"
    }
   ],
   "source": [
    "len(X.columns)"
   ]
  },
  {
   "cell_type": "code",
   "execution_count": 182,
   "metadata": {},
   "outputs": [],
   "source": [
    "X_train, X_test, y_train, y_test = train_test_split(X, y, test_size=0.30)"
   ]
  },
  {
   "cell_type": "code",
   "execution_count": 183,
   "metadata": {},
   "outputs": [],
   "source": [
    "from imblearn.over_sampling import SMOTE\n",
    "\n",
    "sm = SMOTE(random_state=0)\n",
    "X_train, y_train = sm.fit_sample(X_train, y_train)"
   ]
  },
  {
   "cell_type": "code",
   "execution_count": 184,
   "metadata": {},
   "outputs": [],
   "source": [
    "from sklearn.preprocessing import MinMaxScaler\n",
    "scaler = MinMaxScaler()\n",
    "X_train = scaler.fit_transform(X_train)\n",
    "X_test = scaler.transform(X_test)"
   ]
  },
  {
   "cell_type": "code",
   "execution_count": 188,
   "metadata": {
    "scrolled": false
   },
   "outputs": [
    {
     "name": "stdout",
     "output_type": "stream",
     "text": [
      "Building Neural Network model...\n",
      "Train on 26153 samples, validate on 6539 samples\n",
      "Epoch 1/200\n",
      "26153/26153 [==============================] - 3s 109us/step - loss: 0.6825 - val_loss: 0.8475\n",
      "Epoch 2/200\n",
      "26153/26153 [==============================] - 0s 14us/step - loss: 0.6610 - val_loss: 0.9146\n",
      "Epoch 3/200\n",
      "26153/26153 [==============================] - 0s 12us/step - loss: 0.6492 - val_loss: 0.9200\n",
      "Epoch 4/200\n",
      "26153/26153 [==============================] - 0s 11us/step - loss: 0.6310 - val_loss: 0.9087\n",
      "Epoch 5/200\n",
      "26153/26153 [==============================] - 0s 12us/step - loss: 0.6103 - val_loss: 0.8674\n",
      "Epoch 6/200\n",
      "26153/26153 [==============================] - 0s 12us/step - loss: 0.5900 - val_loss: 0.8109\n",
      "Epoch 7/200\n",
      "26153/26153 [==============================] - 0s 11us/step - loss: 0.5703 - val_loss: 0.6857\n",
      "Epoch 8/200\n",
      "26153/26153 [==============================] - 0s 12us/step - loss: 0.5515 - val_loss: 0.6359\n",
      "Epoch 9/200\n",
      "26153/26153 [==============================] - 0s 11us/step - loss: 0.5397 - val_loss: 0.6399\n",
      "Epoch 10/200\n",
      "26153/26153 [==============================] - 0s 15us/step - loss: 0.5324 - val_loss: 0.5975\n",
      "Epoch 11/200\n",
      "26153/26153 [==============================] - 0s 12us/step - loss: 0.5303 - val_loss: 0.5789\n",
      "Epoch 12/200\n",
      "26153/26153 [==============================] - 0s 15us/step - loss: 0.5207 - val_loss: 0.5599\n",
      "Epoch 13/200\n",
      "26153/26153 [==============================] - 0s 14us/step - loss: 0.5184 - val_loss: 0.5327\n",
      "Epoch 14/200\n",
      "26153/26153 [==============================] - 0s 14us/step - loss: 0.5115 - val_loss: 0.5139\n",
      "Epoch 15/200\n",
      "26153/26153 [==============================] - 0s 15us/step - loss: 0.5142 - val_loss: 0.4788\n",
      "Epoch 16/200\n",
      "26153/26153 [==============================] - 0s 17us/step - loss: 0.5068 - val_loss: 0.5083\n",
      "Epoch 17/200\n",
      "26153/26153 [==============================] - 0s 15us/step - loss: 0.5057 - val_loss: 0.5053\n",
      "Epoch 18/200\n",
      "26153/26153 [==============================] - 0s 12us/step - loss: 0.5040 - val_loss: 0.4691\n",
      "Epoch 19/200\n",
      "26153/26153 [==============================] - 0s 12us/step - loss: 0.5000 - val_loss: 0.4589\n",
      "Epoch 20/200\n",
      "26153/26153 [==============================] - 0s 12us/step - loss: 0.4987 - val_loss: 0.4872\n",
      "Epoch 21/200\n",
      "26153/26153 [==============================] - 0s 15us/step - loss: 0.5026 - val_loss: 0.5068\n",
      "Epoch 22/200\n",
      "26153/26153 [==============================] - 0s 14us/step - loss: 0.4991 - val_loss: 0.4910\n",
      "Epoch 23/200\n",
      "26153/26153 [==============================] - 0s 14us/step - loss: 0.4934 - val_loss: 0.3997\n",
      "Epoch 24/200\n",
      "26153/26153 [==============================] - 0s 17us/step - loss: 0.4949 - val_loss: 0.4483\n",
      "Epoch 25/200\n",
      "26153/26153 [==============================] - 0s 14us/step - loss: 0.4938 - val_loss: 0.3952\n",
      "Epoch 26/200\n",
      "26153/26153 [==============================] - 0s 11us/step - loss: 0.4939 - val_loss: 0.4022\n",
      "Epoch 27/200\n",
      "26153/26153 [==============================] - 0s 12us/step - loss: 0.4887 - val_loss: 0.4075\n",
      "Epoch 28/200\n",
      "26153/26153 [==============================] - 0s 12us/step - loss: 0.4902 - val_loss: 0.3924\n",
      "Epoch 29/200\n",
      "26153/26153 [==============================] - 0s 14us/step - loss: 0.4877 - val_loss: 0.4187\n",
      "Epoch 30/200\n",
      "26153/26153 [==============================] - 0s 16us/step - loss: 0.4845 - val_loss: 0.4061\n",
      "Epoch 31/200\n",
      "26153/26153 [==============================] - 0s 13us/step - loss: 0.4845 - val_loss: 0.3780\n",
      "Epoch 32/200\n",
      "26153/26153 [==============================] - 0s 16us/step - loss: 0.4822 - val_loss: 0.3740\n",
      "Epoch 33/200\n",
      "26153/26153 [==============================] - 0s 15us/step - loss: 0.4849 - val_loss: 0.3719\n",
      "Epoch 34/200\n",
      "26153/26153 [==============================] - 0s 12us/step - loss: 0.4768 - val_loss: 0.3472\n",
      "Epoch 35/200\n",
      "26153/26153 [==============================] - 0s 14us/step - loss: 0.4798 - val_loss: 0.3657\n",
      "Epoch 36/200\n",
      "26153/26153 [==============================] - 0s 11us/step - loss: 0.4717 - val_loss: 0.3658\n",
      "Epoch 37/200\n",
      "26153/26153 [==============================] - 0s 12us/step - loss: 0.4741 - val_loss: 0.3778\n",
      "Epoch 38/200\n",
      "26153/26153 [==============================] - 0s 12us/step - loss: 0.4751 - val_loss: 0.3302\n",
      "Epoch 39/200\n",
      "26153/26153 [==============================] - 0s 17us/step - loss: 0.4769 - val_loss: 0.3901\n",
      "Epoch 40/200\n",
      "26153/26153 [==============================] - 0s 13us/step - loss: 0.4695 - val_loss: 0.3363\n",
      "Epoch 41/200\n",
      "26153/26153 [==============================] - 0s 12us/step - loss: 0.4678 - val_loss: 0.3496\n",
      "Epoch 42/200\n",
      "26153/26153 [==============================] - 0s 13us/step - loss: 0.4686 - val_loss: 0.4005\n",
      "Epoch 43/200\n",
      "26153/26153 [==============================] - 0s 14us/step - loss: 0.4663 - val_loss: 0.3425\n",
      "Epoch 44/200\n",
      "26153/26153 [==============================] - 0s 16us/step - loss: 0.4649 - val_loss: 0.3471\n",
      "Epoch 45/200\n",
      "26153/26153 [==============================] - 0s 15us/step - loss: 0.4647 - val_loss: 0.3485\n",
      "Epoch 46/200\n",
      "26153/26153 [==============================] - 0s 12us/step - loss: 0.4657 - val_loss: 0.3702\n",
      "Epoch 47/200\n",
      "26153/26153 [==============================] - 0s 17us/step - loss: 0.4662 - val_loss: 0.4132\n",
      "Epoch 48/200\n",
      "26153/26153 [==============================] - 0s 14us/step - loss: 0.4670 - val_loss: 0.3102\n",
      "Epoch 49/200\n",
      "26153/26153 [==============================] - 0s 17us/step - loss: 0.4647 - val_loss: 0.3006\n",
      "Epoch 50/200\n",
      "26153/26153 [==============================] - 0s 16us/step - loss: 0.4638 - val_loss: 0.3320\n",
      "Epoch 51/200\n",
      "26153/26153 [==============================] - 0s 13us/step - loss: 0.4635 - val_loss: 0.3224\n",
      "Epoch 52/200\n",
      "26153/26153 [==============================] - 0s 16us/step - loss: 0.4613 - val_loss: 0.3643\n",
      "Epoch 53/200\n",
      "26153/26153 [==============================] - 0s 14us/step - loss: 0.4562 - val_loss: 0.3133\n",
      "Epoch 54/200\n",
      "26153/26153 [==============================] - 0s 12us/step - loss: 0.4611 - val_loss: 0.3407\n",
      "Epoch 55/200\n",
      "26153/26153 [==============================] - 0s 12us/step - loss: 0.4601 - val_loss: 0.3458\n",
      "Epoch 56/200\n",
      "26153/26153 [==============================] - 0s 12us/step - loss: 0.4586 - val_loss: 0.3193\n",
      "Epoch 57/200\n",
      "26153/26153 [==============================] - 0s 16us/step - loss: 0.4598 - val_loss: 0.3193\n",
      "Epoch 58/200\n",
      "26153/26153 [==============================] - 0s 15us/step - loss: 0.4572 - val_loss: 0.3432\n",
      "Epoch 59/200\n",
      "26153/26153 [==============================] - 0s 12us/step - loss: 0.4556 - val_loss: 0.3266\n",
      "Epoch 60/200\n",
      "26153/26153 [==============================] - 0s 13us/step - loss: 0.4555 - val_loss: 0.3082\n",
      "Epoch 61/200\n",
      "26153/26153 [==============================] - 0s 14us/step - loss: 0.4552 - val_loss: 0.3106\n",
      "Epoch 62/200\n",
      "26153/26153 [==============================] - 0s 16us/step - loss: 0.4562 - val_loss: 0.2860\n",
      "Epoch 63/200\n",
      "26153/26153 [==============================] - 0s 13us/step - loss: 0.4573 - val_loss: 0.3413\n",
      "Epoch 64/200\n",
      "26153/26153 [==============================] - 0s 13us/step - loss: 0.4587 - val_loss: 0.3490\n",
      "Epoch 65/200\n",
      "26153/26153 [==============================] - 0s 13us/step - loss: 0.4567 - val_loss: 0.3360\n",
      "Epoch 66/200\n",
      "26153/26153 [==============================] - 0s 13us/step - loss: 0.4526 - val_loss: 0.3445\n",
      "Epoch 67/200\n",
      "26153/26153 [==============================] - 0s 13us/step - loss: 0.4561 - val_loss: 0.3019\n",
      "Epoch 68/200\n",
      "26153/26153 [==============================] - 0s 13us/step - loss: 0.4532 - val_loss: 0.2992\n",
      "Epoch 69/200\n",
      "26153/26153 [==============================] - 0s 12us/step - loss: 0.4527 - val_loss: 0.3148\n",
      "Epoch 70/200\n",
      "26153/26153 [==============================] - 0s 13us/step - loss: 0.4506 - val_loss: 0.3156\n",
      "Epoch 71/200\n",
      "26153/26153 [==============================] - 0s 16us/step - loss: 0.4523 - val_loss: 0.3216\n",
      "Epoch 72/200\n",
      "26153/26153 [==============================] - 1s 21us/step - loss: 0.4530 - val_loss: 0.3298\n",
      "Epoch 73/200\n",
      "26153/26153 [==============================] - 0s 16us/step - loss: 0.4534 - val_loss: 0.2959\n",
      "Epoch 74/200\n",
      "26153/26153 [==============================] - 0s 17us/step - loss: 0.4506 - val_loss: 0.3023\n",
      "Epoch 75/200\n",
      "26153/26153 [==============================] - 0s 16us/step - loss: 0.4515 - val_loss: 0.2893\n",
      "Epoch 76/200\n",
      "26153/26153 [==============================] - 0s 12us/step - loss: 0.4490 - val_loss: 0.2942\n"
     ]
    },
    {
     "name": "stdout",
     "output_type": "stream",
     "text": [
      "Epoch 77/200\n",
      "26153/26153 [==============================] - 0s 11us/step - loss: 0.4509 - val_loss: 0.3140\n",
      "Epoch 78/200\n",
      "26153/26153 [==============================] - 0s 11us/step - loss: 0.4482 - val_loss: 0.2686\n",
      "Epoch 79/200\n",
      "26153/26153 [==============================] - 0s 12us/step - loss: 0.4481 - val_loss: 0.2895\n",
      "Epoch 80/200\n",
      "26153/26153 [==============================] - 0s 11us/step - loss: 0.4485 - val_loss: 0.3066\n",
      "Epoch 81/200\n",
      "26153/26153 [==============================] - 0s 12us/step - loss: 0.4506 - val_loss: 0.2811\n",
      "Epoch 82/200\n",
      "26153/26153 [==============================] - 0s 11us/step - loss: 0.4461 - val_loss: 0.3260\n",
      "Epoch 83/200\n",
      "26153/26153 [==============================] - 0s 12us/step - loss: 0.4484 - val_loss: 0.3234\n",
      "Epoch 84/200\n",
      "26153/26153 [==============================] - 0s 12us/step - loss: 0.4485 - val_loss: 0.2750\n",
      "Epoch 85/200\n",
      "26153/26153 [==============================] - 0s 14us/step - loss: 0.4491 - val_loss: 0.2883\n",
      "Epoch 86/200\n",
      "26153/26153 [==============================] - 0s 15us/step - loss: 0.4458 - val_loss: 0.3053\n",
      "Epoch 87/200\n",
      "26153/26153 [==============================] - 0s 15us/step - loss: 0.4426 - val_loss: 0.2693\n",
      "Epoch 88/200\n",
      "26153/26153 [==============================] - 0s 14us/step - loss: 0.4441 - val_loss: 0.2848\n",
      "Epoch 89/200\n",
      "26153/26153 [==============================] - 0s 14us/step - loss: 0.4419 - val_loss: 0.2801\n",
      "Epoch 90/200\n",
      "26153/26153 [==============================] - 0s 12us/step - loss: 0.4454 - val_loss: 0.2981\n",
      "Epoch 91/200\n",
      "26153/26153 [==============================] - 0s 13us/step - loss: 0.4453 - val_loss: 0.2600\n",
      "Epoch 92/200\n",
      "26153/26153 [==============================] - 0s 12us/step - loss: 0.4452 - val_loss: 0.2682\n",
      "Epoch 93/200\n",
      "26153/26153 [==============================] - 0s 13us/step - loss: 0.4437 - val_loss: 0.2899\n",
      "Epoch 94/200\n",
      "26153/26153 [==============================] - 0s 12us/step - loss: 0.4445 - val_loss: 0.3141\n",
      "Epoch 95/200\n",
      "26153/26153 [==============================] - 0s 13us/step - loss: 0.4446 - val_loss: 0.2556\n",
      "Epoch 96/200\n",
      "26153/26153 [==============================] - 0s 12us/step - loss: 0.4439 - val_loss: 0.2844\n",
      "Epoch 97/200\n",
      "26153/26153 [==============================] - 0s 12us/step - loss: 0.4413 - val_loss: 0.2838\n",
      "Epoch 98/200\n",
      "26153/26153 [==============================] - 0s 14us/step - loss: 0.4424 - val_loss: 0.2724\n",
      "Epoch 99/200\n",
      "26153/26153 [==============================] - 0s 17us/step - loss: 0.4447 - val_loss: 0.2725\n",
      "Epoch 100/200\n",
      "26153/26153 [==============================] - 0s 18us/step - loss: 0.4388 - val_loss: 0.2613\n",
      "Epoch 101/200\n",
      "26153/26153 [==============================] - 0s 12us/step - loss: 0.4392 - val_loss: 0.2865\n",
      "Epoch 102/200\n",
      "26153/26153 [==============================] - 0s 13us/step - loss: 0.4424 - val_loss: 0.2739\n",
      "Epoch 103/200\n",
      "26153/26153 [==============================] - 0s 12us/step - loss: 0.4402 - val_loss: 0.2608\n",
      "Epoch 104/200\n",
      "26153/26153 [==============================] - 0s 12us/step - loss: 0.4398 - val_loss: 0.2449\n",
      "Epoch 105/200\n",
      "26153/26153 [==============================] - 0s 16us/step - loss: 0.4386 - val_loss: 0.2690\n",
      "Epoch 106/200\n",
      "26153/26153 [==============================] - 0s 15us/step - loss: 0.4403 - val_loss: 0.2439\n",
      "Epoch 107/200\n",
      "26153/26153 [==============================] - 0s 13us/step - loss: 0.4399 - val_loss: 0.2788\n",
      "Epoch 108/200\n",
      "26153/26153 [==============================] - 0s 17us/step - loss: 0.4372 - val_loss: 0.2449\n",
      "Epoch 109/200\n",
      "26153/26153 [==============================] - 0s 15us/step - loss: 0.4370 - val_loss: 0.2499\n",
      "Epoch 110/200\n",
      "26153/26153 [==============================] - 0s 12us/step - loss: 0.4385 - val_loss: 0.2667\n",
      "Epoch 111/200\n",
      "26153/26153 [==============================] - 0s 12us/step - loss: 0.4373 - val_loss: 0.2461\n",
      "Epoch 112/200\n",
      "26153/26153 [==============================] - 0s 12us/step - loss: 0.4372 - val_loss: 0.2562\n",
      "Epoch 113/200\n",
      "26153/26153 [==============================] - 0s 15us/step - loss: 0.4383 - val_loss: 0.2775\n",
      "Epoch 114/200\n",
      "26153/26153 [==============================] - 0s 17us/step - loss: 0.4357 - val_loss: 0.2625\n",
      "Epoch 115/200\n",
      "26153/26153 [==============================] - 0s 17us/step - loss: 0.4350 - val_loss: 0.2468\n",
      "Epoch 116/200\n",
      "26153/26153 [==============================] - 0s 13us/step - loss: 0.4344 - val_loss: 0.2667\n",
      "Epoch 117/200\n",
      "26153/26153 [==============================] - 0s 12us/step - loss: 0.4355 - val_loss: 0.2388\n",
      "Epoch 118/200\n",
      "26153/26153 [==============================] - 0s 13us/step - loss: 0.4354 - val_loss: 0.2530\n",
      "Epoch 119/200\n",
      "26153/26153 [==============================] - 0s 12us/step - loss: 0.4346 - val_loss: 0.2424\n",
      "Epoch 120/200\n",
      "26153/26153 [==============================] - 0s 12us/step - loss: 0.4311 - val_loss: 0.2526\n",
      "Epoch 121/200\n",
      "26153/26153 [==============================] - 0s 12us/step - loss: 0.4351 - val_loss: 0.2283\n",
      "Epoch 122/200\n",
      "26153/26153 [==============================] - 0s 13us/step - loss: 0.4365 - val_loss: 0.2387\n",
      "Epoch 123/200\n",
      "26153/26153 [==============================] - 0s 13us/step - loss: 0.4334 - val_loss: 0.2462\n",
      "Epoch 124/200\n",
      "26153/26153 [==============================] - 0s 13us/step - loss: 0.4319 - val_loss: 0.2439\n",
      "Epoch 125/200\n",
      "26153/26153 [==============================] - 0s 14us/step - loss: 0.4321 - val_loss: 0.2400\n",
      "Epoch 126/200\n",
      "26153/26153 [==============================] - 0s 14us/step - loss: 0.4314 - val_loss: 0.2405\n",
      "Epoch 127/200\n",
      "26153/26153 [==============================] - 1s 21us/step - loss: 0.4328 - val_loss: 0.2356\n",
      "Epoch 128/200\n",
      "26153/26153 [==============================] - 0s 19us/step - loss: 0.4312 - val_loss: 0.2359\n",
      "Epoch 129/200\n",
      "26153/26153 [==============================] - 0s 13us/step - loss: 0.4319 - val_loss: 0.2352\n",
      "Epoch 130/200\n",
      "26153/26153 [==============================] - 0s 19us/step - loss: 0.4308 - val_loss: 0.2363\n",
      "Epoch 131/200\n",
      "26153/26153 [==============================] - 0s 11us/step - loss: 0.4324 - val_loss: 0.2214\n",
      "Epoch 132/200\n",
      "26153/26153 [==============================] - 0s 14us/step - loss: 0.4306 - val_loss: 0.2321\n",
      "Epoch 133/200\n",
      "26153/26153 [==============================] - 1s 20us/step - loss: 0.4338 - val_loss: 0.2586\n",
      "Epoch 134/200\n",
      "26153/26153 [==============================] - 0s 14us/step - loss: 0.4321 - val_loss: 0.2298\n",
      "Epoch 135/200\n",
      "26153/26153 [==============================] - 0s 15us/step - loss: 0.4297 - val_loss: 0.2396\n",
      "Epoch 136/200\n",
      "26153/26153 [==============================] - 0s 16us/step - loss: 0.4307 - val_loss: 0.2351\n",
      "Epoch 137/200\n",
      "26153/26153 [==============================] - 0s 16us/step - loss: 0.4305 - val_loss: 0.2297\n",
      "Epoch 138/200\n",
      "26153/26153 [==============================] - 0s 17us/step - loss: 0.4277 - val_loss: 0.2245\n",
      "Epoch 139/200\n",
      "26153/26153 [==============================] - 0s 13us/step - loss: 0.4273 - val_loss: 0.2457\n",
      "Epoch 140/200\n",
      "26153/26153 [==============================] - 0s 13us/step - loss: 0.4284 - val_loss: 0.2243\n",
      "Epoch 141/200\n",
      "26153/26153 [==============================] - 0s 11us/step - loss: 0.4298 - val_loss: 0.2264\n",
      "Epoch 142/200\n",
      "26153/26153 [==============================] - 0s 11us/step - loss: 0.4279 - val_loss: 0.2300\n",
      "Epoch 143/200\n",
      "26153/26153 [==============================] - 0s 10us/step - loss: 0.4285 - val_loss: 0.2306\n",
      "Epoch 144/200\n",
      "26153/26153 [==============================] - 0s 13us/step - loss: 0.4304 - val_loss: 0.2203\n",
      "Epoch 145/200\n",
      "26153/26153 [==============================] - 0s 11us/step - loss: 0.4271 - val_loss: 0.2422\n",
      "Epoch 146/200\n",
      "26153/26153 [==============================] - 0s 13us/step - loss: 0.4314 - val_loss: 0.2187\n",
      "Epoch 147/200\n",
      "26153/26153 [==============================] - 0s 12us/step - loss: 0.4268 - val_loss: 0.2445\n",
      "Epoch 148/200\n",
      "26153/26153 [==============================] - 0s 12us/step - loss: 0.4273 - val_loss: 0.2171\n",
      "Epoch 149/200\n",
      "26153/26153 [==============================] - 0s 11us/step - loss: 0.4291 - val_loss: 0.2457\n",
      "Epoch 150/200\n",
      "26153/26153 [==============================] - 0s 11us/step - loss: 0.4303 - val_loss: 0.2081\n",
      "Epoch 151/200\n",
      "26153/26153 [==============================] - 0s 11us/step - loss: 0.4299 - val_loss: 0.2503\n",
      "Epoch 152/200\n",
      "26153/26153 [==============================] - 0s 11us/step - loss: 0.4268 - val_loss: 0.2106\n",
      "Epoch 153/200\n"
     ]
    },
    {
     "name": "stdout",
     "output_type": "stream",
     "text": [
      "26153/26153 [==============================] - 0s 11us/step - loss: 0.4277 - val_loss: 0.2405\n",
      "Epoch 154/200\n",
      "26153/26153 [==============================] - 0s 11us/step - loss: 0.4297 - val_loss: 0.2265\n",
      "Epoch 155/200\n",
      "26153/26153 [==============================] - 0s 15us/step - loss: 0.4234 - val_loss: 0.2212\n",
      "Epoch 156/200\n",
      "26153/26153 [==============================] - 0s 16us/step - loss: 0.4284 - val_loss: 0.2372\n",
      "Epoch 157/200\n",
      "26153/26153 [==============================] - 0s 13us/step - loss: 0.4239 - val_loss: 0.2356\n",
      "Epoch 158/200\n",
      "26153/26153 [==============================] - 0s 11us/step - loss: 0.4253 - val_loss: 0.2404\n",
      "Epoch 159/200\n",
      "26153/26153 [==============================] - 0s 11us/step - loss: 0.4243 - val_loss: 0.2125\n",
      "Epoch 160/200\n",
      "26153/26153 [==============================] - 0s 12us/step - loss: 0.4261 - val_loss: 0.2138\n",
      "Epoch 161/200\n",
      "26153/26153 [==============================] - 0s 11us/step - loss: 0.4249 - val_loss: 0.2330\n",
      "Epoch 162/200\n",
      "26153/26153 [==============================] - 0s 11us/step - loss: 0.4258 - val_loss: 0.2181\n",
      "Epoch 163/200\n",
      "26153/26153 [==============================] - 0s 10us/step - loss: 0.4245 - val_loss: 0.2059\n",
      "Epoch 164/200\n",
      "26153/26153 [==============================] - 0s 11us/step - loss: 0.4271 - val_loss: 0.2279\n",
      "Epoch 165/200\n",
      "26153/26153 [==============================] - 0s 11us/step - loss: 0.4244 - val_loss: 0.2186\n",
      "Epoch 166/200\n",
      "26153/26153 [==============================] - 0s 12us/step - loss: 0.4240 - val_loss: 0.2333\n",
      "Epoch 167/200\n",
      "26153/26153 [==============================] - 0s 10us/step - loss: 0.4258 - val_loss: 0.2137\n",
      "Epoch 168/200\n",
      "26153/26153 [==============================] - 0s 10us/step - loss: 0.4239 - val_loss: 0.2266\n",
      "Epoch 169/200\n",
      "26153/26153 [==============================] - 0s 11us/step - loss: 0.4239 - val_loss: 0.2162\n",
      "Epoch 170/200\n",
      "26153/26153 [==============================] - 0s 11us/step - loss: 0.4246 - val_loss: 0.2114\n",
      "Epoch 171/200\n",
      "26153/26153 [==============================] - 0s 15us/step - loss: 0.4238 - val_loss: 0.2205\n",
      "Epoch 172/200\n",
      "26153/26153 [==============================] - 1s 22us/step - loss: 0.4259 - val_loss: 0.2199\n",
      "Epoch 173/200\n",
      "26153/26153 [==============================] - 0s 16us/step - loss: 0.4242 - val_loss: 0.2155\n",
      "Epoch 174/200\n",
      "26153/26153 [==============================] - 0s 15us/step - loss: 0.4233 - val_loss: 0.2299\n",
      "Epoch 175/200\n",
      "26153/26153 [==============================] - 0s 12us/step - loss: 0.4258 - val_loss: 0.2214\n",
      "Epoch 176/200\n",
      "26153/26153 [==============================] - 0s 11us/step - loss: 0.4253 - val_loss: 0.2076\n",
      "Epoch 177/200\n",
      "26153/26153 [==============================] - 0s 11us/step - loss: 0.4237 - val_loss: 0.2127\n",
      "Epoch 178/200\n",
      "26153/26153 [==============================] - 0s 17us/step - loss: 0.4229 - val_loss: 0.2254\n",
      "Epoch 179/200\n",
      "26153/26153 [==============================] - 0s 16us/step - loss: 0.4237 - val_loss: 0.2085\n",
      "Epoch 180/200\n",
      "26153/26153 [==============================] - 1s 19us/step - loss: 0.4216 - val_loss: 0.2068\n",
      "Epoch 181/200\n",
      "26153/26153 [==============================] - 0s 16us/step - loss: 0.4243 - val_loss: 0.2072\n",
      "Epoch 182/200\n",
      "26153/26153 [==============================] - 0s 13us/step - loss: 0.4247 - val_loss: 0.2199\n",
      "Epoch 183/200\n",
      "26153/26153 [==============================] - 0s 12us/step - loss: 0.4247 - val_loss: 0.2064\n",
      "Epoch 184/200\n",
      "26153/26153 [==============================] - 0s 16us/step - loss: 0.4259 - val_loss: 0.2079\n",
      "Epoch 185/200\n",
      "26153/26153 [==============================] - 0s 17us/step - loss: 0.4232 - val_loss: 0.2165\n",
      "Epoch 186/200\n",
      "26153/26153 [==============================] - 0s 19us/step - loss: 0.4244 - val_loss: 0.2043\n",
      "Epoch 187/200\n",
      "26153/26153 [==============================] - 1s 21us/step - loss: 0.4227 - val_loss: 0.2148\n",
      "Epoch 188/200\n",
      "26153/26153 [==============================] - 0s 17us/step - loss: 0.4229 - val_loss: 0.2053\n",
      "Epoch 189/200\n",
      "26153/26153 [==============================] - 0s 19us/step - loss: 0.4232 - val_loss: 0.2085\n",
      "Epoch 190/200\n",
      "26153/26153 [==============================] - 0s 16us/step - loss: 0.4246 - val_loss: 0.2349\n",
      "Epoch 191/200\n",
      "26153/26153 [==============================] - 0s 13us/step - loss: 0.4230 - val_loss: 0.1955\n",
      "Epoch 192/200\n",
      "26153/26153 [==============================] - 0s 11us/step - loss: 0.4230 - val_loss: 0.2116\n",
      "Epoch 193/200\n",
      "26153/26153 [==============================] - 0s 12us/step - loss: 0.4213 - val_loss: 0.2183\n",
      "Epoch 194/200\n",
      "26153/26153 [==============================] - 0s 12us/step - loss: 0.4211 - val_loss: 0.2110\n",
      "Epoch 195/200\n",
      "26153/26153 [==============================] - 0s 11us/step - loss: 0.4201 - val_loss: 0.2199\n",
      "Epoch 196/200\n",
      "26153/26153 [==============================] - 0s 10us/step - loss: 0.4232 - val_loss: 0.2047\n",
      "Epoch 197/200\n",
      "26153/26153 [==============================] - 0s 14us/step - loss: 0.4255 - val_loss: 0.2090\n",
      "Epoch 198/200\n",
      "26153/26153 [==============================] - 1s 20us/step - loss: 0.4209 - val_loss: 0.2057\n",
      "Epoch 199/200\n",
      "26153/26153 [==============================] - 0s 16us/step - loss: 0.4217 - val_loss: 0.2176\n",
      "Epoch 200/200\n",
      "26153/26153 [==============================] - 0s 18us/step - loss: 0.4213 - val_loss: 0.2178\n"
     ]
    }
   ],
   "source": [
    "print('Building Neural Network model...')\n",
    "adam = optimizers.adam(lr = 0.01, decay = 0.0001)\n",
    "\n",
    "model = Sequential()\n",
    "\n",
    "model.add(Dense(64, input_dim=X_train.shape[1],\n",
    "                kernel_initializer='normal',\n",
    "                #kernel_regularizer=regularizers.l2(1e-10),\n",
    "                activation=\"relu\"))\n",
    "model.add(Dropout(0.3))\n",
    "\n",
    "model.add(Dense(32,\n",
    "                kernel_initializer='normal',\n",
    "                #kernel_regularizer=regularizers.l2(1e-10),\n",
    "                activation=\"relu\"))\n",
    "model.add(Dropout(0.3))\n",
    "\n",
    "model.add(Dense(8,\n",
    "                kernel_initializer='normal',\n",
    "                #kernel_regularizer=regularizers.l2(1e-10),\n",
    "                activation=\"relu\"))\n",
    "model.add(Dropout(0.3))\n",
    "\n",
    "model.add(Dense(1))\n",
    "model.add(Activation(\"sigmoid\"))\n",
    "model.compile(loss=\"binary_crossentropy\", optimizer='adam')\n",
    "callbacks = [EarlyStopping(monitor='val_loss', min_delta=0, patience=50)]\n",
    "\n",
    "history = model.fit(X_train, y_train, validation_split=0.20, epochs=200, batch_size=1024, callbacks=callbacks)"
   ]
  },
  {
   "cell_type": "code",
   "execution_count": 189,
   "metadata": {},
   "outputs": [
    {
     "data": {
      "image/png": "[encoded data removed]",
      "text/plain": [
       "<matplotlib.figure.Figure at 0x1c0342e5128>"
      ]
     },
     "metadata": {},
     "output_type": "display_data"
    }
   ],
   "source": [
    "y_hat = model.predict_proba(X_test)\n",
    "skplt.metrics.plot_precision_recall_curve(y_test, np.concatenate([1-y_hat, y_hat], axis = 1))\n",
    "plt.show()"
   ]
  },
  {
   "cell_type": "code",
   "execution_count": 190,
   "metadata": {},
   "outputs": [
    {
     "data": {
      "image/png": "[encoded data removed]",
      "text/plain": [
       "<matplotlib.figure.Figure at 0x1c0360c2d30>"
      ]
     },
     "metadata": {},
     "output_type": "display_data"
    }
   ],
   "source": [
    "y_hat = model.predict_proba(X_test)\n",
    "skplt.metrics.plot_roc_curve(y_test, np.concatenate([1-y_hat, y_hat], axis = 1))\n",
    "plt.show()"
   ]
  },
  {
   "cell_type": "code",
   "execution_count": 191,
   "metadata": {},
   "outputs": [
    {
     "data": {
      "image/png": "[encoded data removed]",
      "text/plain": [
       "<matplotlib.figure.Figure at 0x1c03185d5f8>"
      ]
     },
     "metadata": {},
     "output_type": "display_data"
    }
   ],
   "source": [
    "y_hat_train = model.predict_proba(X_train)\n",
    "skplt.metrics.plot_precision_recall_curve(y_train, np.concatenate([1-y_hat_train, y_hat_train], axis = 1))\n",
    "plt.show()"
   ]
  },
  {
   "cell_type": "code",
   "execution_count": 174,
   "metadata": {},
   "outputs": [
    {
     "data": {
      "text/plain": [
       "array([[6599,  431],\n",
       "       [1216,  754]], dtype=int64)"
      ]
     },
     "execution_count": 174,
     "metadata": {},
     "output_type": "execute_result"
    }
   ],
   "source": [
    "y_hat_01 = model.predict_classes(X_test)\n",
    "\n",
    "from sklearn.metrics import confusion_matrix\n",
    "confusion_matrix(y_test, y_hat_01)"
   ]
  },
  {
   "cell_type": "code",
   "execution_count": 169,
   "metadata": {},
   "outputs": [
    {
     "data": {
      "text/plain": [
       "array([[15536,   798],\n",
       "       [ 3762, 12572]], dtype=int64)"
      ]
     },
     "execution_count": 169,
     "metadata": {},
     "output_type": "execute_result"
    }
   ],
   "source": [
    "y_hat_train_01 = model.predict_classes(X_train)\n",
    "confusion_matrix(y_train, y_hat_train_01)"
   ]
  },
  {
   "cell_type": "code",
   "execution_count": 155,
   "metadata": {},
   "outputs": [
    {
     "data": {
      "text/plain": [
       "0.3761421319796954"
      ]
     },
     "execution_count": 155,
     "metadata": {},
     "output_type": "execute_result"
    }
   ],
   "source": [
    "from sklearn.metrics import recall_score\n",
    "\n",
    "recall_score(y_test, y_hat_01)"
   ]
  },
  {
   "cell_type": "code",
   "execution_count": 157,
   "metadata": {},
   "outputs": [
    {
     "data": {
      "text/plain": [
       "0.6465968586387435"
      ]
     },
     "execution_count": 157,
     "metadata": {},
     "output_type": "execute_result"
    }
   ],
   "source": [
    "from sklearn.metrics import precision_score\n",
    "\n",
    "precision_score(y_test, y_hat_01)"
   ]
  },
  {
   "cell_type": "code",
   "execution_count": 159,
   "metadata": {},
   "outputs": [
    {
     "data": {
      "text/plain": [
       "0.47560975609756095"
      ]
     },
     "execution_count": 159,
     "metadata": {},
     "output_type": "execute_result"
    }
   ],
   "source": [
    "from sklearn.metrics import f1_score\n",
    "\n",
    "f1_score(y_test, y_hat_01)"
   ]
  },
  {
   "cell_type": "code",
   "execution_count": 175,
   "metadata": {},
   "outputs": [
    {
     "data": {
      "text/plain": [
       "0.817"
      ]
     },
     "execution_count": 175,
     "metadata": {},
     "output_type": "execute_result"
    }
   ],
   "source": [
    "from sklearn.metrics import accuracy_score\n",
    "\n",
    "accuracy_score(y_test, y_hat_01)"
   ]
  },
  {
   "cell_type": "code",
   "execution_count": 177,
   "metadata": {},
   "outputs": [
    {
     "data": {
      "text/plain": [
       "[<matplotlib.lines.Line2D at 0x1c02f64d748>]"
      ]
     },
     "execution_count": 177,
     "metadata": {},
     "output_type": "execute_result"
    },
    {
     "data": {
      "image/png": "[encoded data removed]",
      "text/plain": [
       "<matplotlib.figure.Figure at 0x1c02f6400f0>"
      ]
     },
     "metadata": {},
     "output_type": "display_data"
    }
   ],
   "source": [
    "plt.plot(history.history['loss'])\n",
    "plt.plot(history.history['val_loss'])"
   ]
  },
  {
   "cell_type": "code",
   "execution_count": null,
   "metadata": {},
   "outputs": [],
   "source": []
  }
 ],
 "metadata": {
  "kernelspec": {
   "display_name": "Python 3",
   "language": "python",
   "name": "python3"
  },
  "language_info": {
   "codemirror_mode": {
    "name": "ipython",
    "version": 3
   },
   "file_extension": ".py",
   "mimetype": "text/x-python",
   "name": "python",
   "nbconvert_exporter": "python",
   "pygments_lexer": "ipython3",
   "version": "3.6.4"
  }
 },
 "nbformat": 4,
 "nbformat_minor": 2
}
